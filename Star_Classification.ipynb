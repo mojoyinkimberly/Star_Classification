{
  "cells": [
    {
      "cell_type": "markdown",
      "metadata": {
        "id": "view-in-github",
        "colab_type": "text"
      },
      "source": [
        "<a href=\"https://colab.research.google.com/github/mojoyinkimberly/Stellar_Classification/blob/main/Star_Classification.ipynb\" target=\"_parent\"><img src=\"https://colab.research.google.com/assets/colab-badge.svg\" alt=\"Open In Colab\"/></a>"
      ]
    },
    {
      "cell_type": "markdown",
      "metadata": {
        "id": "cSbbsRuncC4f"
      },
      "source": [
        "**importing libraries**"
      ]
    },
    {
      "cell_type": "code",
      "execution_count": null,
      "metadata": {
        "id": "QLm061NwYMc-"
      },
      "outputs": [],
      "source": [
        "import numpy as np\n",
        "import pandas as pd\n",
        "import matplotlib.pyplot as plt\n",
        "import seaborn as sns\n",
        "from statsmodels.stats.outliers_influence import variance_inflation_factor\n",
        "from sklearn.model_selection import train_test_split\n",
        "from sklearn.preprocessing import MinMaxScaler, OrdinalEncoder,StandardScaler\n",
        "from sklearn.metrics import classification_report\n",
        "from sklearn.decomposition import PCA\n",
        "from sklearn.metrics import confusion_matrix, accuracy_score\n",
        "from sklearn.linear_model import LogisticRegression\n",
        "from sklearn.model_selection import cross_val_score\n",
        "from sklearn.model_selection import RepeatedKFold\n",
        "from imblearn.over_sampling import SMOTE\n",
        "from imblearn.under_sampling import RandomUnderSampler\n",
        "from sklearn.ensemble import RandomForestClassifier\n",
        "from sklearn.svm import SVC"
      ]
    },
    {
      "cell_type": "markdown",
      "metadata": {
        "id": "vd7oPJO-cLgj"
      },
      "source": [
        "**reading dataset into  python environment**"
      ]
    },
    {
      "cell_type": "code",
      "execution_count": 2,
      "metadata": {
        "colab": {
          "base_uri": "https://localhost:8080/",
          "height": 488
        },
        "id": "kClwnrsaYUwj",
        "outputId": "2a4bc410-f732-4efd-fe3e-bb58444d2356"
      },
      "outputs": [
        {
          "output_type": "execute_result",
          "data": {
            "text/plain": [
              "             obj_ID       alpha      delta         u         g         r  \\\n",
              "0      1.237661e+18  135.689107  32.494632  23.87882  22.27530  20.39501   \n",
              "1      1.237665e+18  144.826101  31.274185  24.77759  22.83188  22.58444   \n",
              "2      1.237661e+18  142.188790  35.582444  25.26307  22.66389  20.60976   \n",
              "3      1.237663e+18  338.741038  -0.402828  22.13682  23.77656  21.61162   \n",
              "4      1.237680e+18  345.282593  21.183866  19.43718  17.58028  16.49747   \n",
              "...             ...         ...        ...       ...       ...       ...   \n",
              "99995  1.237679e+18   39.620709  -2.594074  22.16759  22.97586  21.90404   \n",
              "99996  1.237679e+18   29.493819  19.798874  22.69118  22.38628  20.45003   \n",
              "99997  1.237668e+18  224.587407  15.700707  21.16916  19.26997  18.20428   \n",
              "99998  1.237661e+18  212.268621  46.660365  25.35039  21.63757  19.91386   \n",
              "99999  1.237661e+18  196.896053  49.464643  22.62171  21.79745  20.60115   \n",
              "\n",
              "              i         z  run_ID  rerun_ID  cam_col  field_ID   spec_obj_ID  \\\n",
              "0      19.16573  18.79371    3606       301        2        79  6.543777e+18   \n",
              "1      21.16812  21.61427    4518       301        5       119  1.176014e+19   \n",
              "2      19.34857  18.94827    3606       301        2       120  5.152200e+18   \n",
              "3      20.50454  19.25010    4192       301        3       214  1.030107e+19   \n",
              "4      15.97711  15.54461    8102       301        3       137  6.891865e+18   \n",
              "...         ...       ...     ...       ...      ...       ...           ...   \n",
              "99995  21.30548  20.73569    7778       301        2       581  1.055431e+19   \n",
              "99996  19.75759  19.41526    7917       301        1       289  8.586351e+18   \n",
              "99997  17.69034  17.35221    5314       301        4       308  3.112008e+18   \n",
              "99998  19.07254  18.62482    3650       301        4       131  7.601080e+18   \n",
              "99999  20.00959  19.28075    3650       301        4        60  8.343152e+18   \n",
              "\n",
              "        class  redshift  plate    MJD  fiber_ID  \n",
              "0      GALAXY  0.634794   5812  56354       171  \n",
              "1      GALAXY  0.779136  10445  58158       427  \n",
              "2      GALAXY  0.644195   4576  55592       299  \n",
              "3      GALAXY  0.932346   9149  58039       775  \n",
              "4      GALAXY  0.116123   6121  56187       842  \n",
              "...       ...       ...    ...    ...       ...  \n",
              "99995  GALAXY  0.000000   9374  57749       438  \n",
              "99996  GALAXY  0.404895   7626  56934       866  \n",
              "99997  GALAXY  0.143366   2764  54535        74  \n",
              "99998  GALAXY  0.455040   6751  56368       470  \n",
              "99999  GALAXY  0.542944   7410  57104       851  \n",
              "\n",
              "[100000 rows x 18 columns]"
            ],
            "text/html": [
              "\n",
              "  <div id=\"df-84d9a163-1523-41b1-af0e-d02305e42622\">\n",
              "    <div class=\"colab-df-container\">\n",
              "      <div>\n",
              "<style scoped>\n",
              "    .dataframe tbody tr th:only-of-type {\n",
              "        vertical-align: middle;\n",
              "    }\n",
              "\n",
              "    .dataframe tbody tr th {\n",
              "        vertical-align: top;\n",
              "    }\n",
              "\n",
              "    .dataframe thead th {\n",
              "        text-align: right;\n",
              "    }\n",
              "</style>\n",
              "<table border=\"1\" class=\"dataframe\">\n",
              "  <thead>\n",
              "    <tr style=\"text-align: right;\">\n",
              "      <th></th>\n",
              "      <th>obj_ID</th>\n",
              "      <th>alpha</th>\n",
              "      <th>delta</th>\n",
              "      <th>u</th>\n",
              "      <th>g</th>\n",
              "      <th>r</th>\n",
              "      <th>i</th>\n",
              "      <th>z</th>\n",
              "      <th>run_ID</th>\n",
              "      <th>rerun_ID</th>\n",
              "      <th>cam_col</th>\n",
              "      <th>field_ID</th>\n",
              "      <th>spec_obj_ID</th>\n",
              "      <th>class</th>\n",
              "      <th>redshift</th>\n",
              "      <th>plate</th>\n",
              "      <th>MJD</th>\n",
              "      <th>fiber_ID</th>\n",
              "    </tr>\n",
              "  </thead>\n",
              "  <tbody>\n",
              "    <tr>\n",
              "      <th>0</th>\n",
              "      <td>1.237661e+18</td>\n",
              "      <td>135.689107</td>\n",
              "      <td>32.494632</td>\n",
              "      <td>23.87882</td>\n",
              "      <td>22.27530</td>\n",
              "      <td>20.39501</td>\n",
              "      <td>19.16573</td>\n",
              "      <td>18.79371</td>\n",
              "      <td>3606</td>\n",
              "      <td>301</td>\n",
              "      <td>2</td>\n",
              "      <td>79</td>\n",
              "      <td>6.543777e+18</td>\n",
              "      <td>GALAXY</td>\n",
              "      <td>0.634794</td>\n",
              "      <td>5812</td>\n",
              "      <td>56354</td>\n",
              "      <td>171</td>\n",
              "    </tr>\n",
              "    <tr>\n",
              "      <th>1</th>\n",
              "      <td>1.237665e+18</td>\n",
              "      <td>144.826101</td>\n",
              "      <td>31.274185</td>\n",
              "      <td>24.77759</td>\n",
              "      <td>22.83188</td>\n",
              "      <td>22.58444</td>\n",
              "      <td>21.16812</td>\n",
              "      <td>21.61427</td>\n",
              "      <td>4518</td>\n",
              "      <td>301</td>\n",
              "      <td>5</td>\n",
              "      <td>119</td>\n",
              "      <td>1.176014e+19</td>\n",
              "      <td>GALAXY</td>\n",
              "      <td>0.779136</td>\n",
              "      <td>10445</td>\n",
              "      <td>58158</td>\n",
              "      <td>427</td>\n",
              "    </tr>\n",
              "    <tr>\n",
              "      <th>2</th>\n",
              "      <td>1.237661e+18</td>\n",
              "      <td>142.188790</td>\n",
              "      <td>35.582444</td>\n",
              "      <td>25.26307</td>\n",
              "      <td>22.66389</td>\n",
              "      <td>20.60976</td>\n",
              "      <td>19.34857</td>\n",
              "      <td>18.94827</td>\n",
              "      <td>3606</td>\n",
              "      <td>301</td>\n",
              "      <td>2</td>\n",
              "      <td>120</td>\n",
              "      <td>5.152200e+18</td>\n",
              "      <td>GALAXY</td>\n",
              "      <td>0.644195</td>\n",
              "      <td>4576</td>\n",
              "      <td>55592</td>\n",
              "      <td>299</td>\n",
              "    </tr>\n",
              "    <tr>\n",
              "      <th>3</th>\n",
              "      <td>1.237663e+18</td>\n",
              "      <td>338.741038</td>\n",
              "      <td>-0.402828</td>\n",
              "      <td>22.13682</td>\n",
              "      <td>23.77656</td>\n",
              "      <td>21.61162</td>\n",
              "      <td>20.50454</td>\n",
              "      <td>19.25010</td>\n",
              "      <td>4192</td>\n",
              "      <td>301</td>\n",
              "      <td>3</td>\n",
              "      <td>214</td>\n",
              "      <td>1.030107e+19</td>\n",
              "      <td>GALAXY</td>\n",
              "      <td>0.932346</td>\n",
              "      <td>9149</td>\n",
              "      <td>58039</td>\n",
              "      <td>775</td>\n",
              "    </tr>\n",
              "    <tr>\n",
              "      <th>4</th>\n",
              "      <td>1.237680e+18</td>\n",
              "      <td>345.282593</td>\n",
              "      <td>21.183866</td>\n",
              "      <td>19.43718</td>\n",
              "      <td>17.58028</td>\n",
              "      <td>16.49747</td>\n",
              "      <td>15.97711</td>\n",
              "      <td>15.54461</td>\n",
              "      <td>8102</td>\n",
              "      <td>301</td>\n",
              "      <td>3</td>\n",
              "      <td>137</td>\n",
              "      <td>6.891865e+18</td>\n",
              "      <td>GALAXY</td>\n",
              "      <td>0.116123</td>\n",
              "      <td>6121</td>\n",
              "      <td>56187</td>\n",
              "      <td>842</td>\n",
              "    </tr>\n",
              "    <tr>\n",
              "      <th>...</th>\n",
              "      <td>...</td>\n",
              "      <td>...</td>\n",
              "      <td>...</td>\n",
              "      <td>...</td>\n",
              "      <td>...</td>\n",
              "      <td>...</td>\n",
              "      <td>...</td>\n",
              "      <td>...</td>\n",
              "      <td>...</td>\n",
              "      <td>...</td>\n",
              "      <td>...</td>\n",
              "      <td>...</td>\n",
              "      <td>...</td>\n",
              "      <td>...</td>\n",
              "      <td>...</td>\n",
              "      <td>...</td>\n",
              "      <td>...</td>\n",
              "      <td>...</td>\n",
              "    </tr>\n",
              "    <tr>\n",
              "      <th>99995</th>\n",
              "      <td>1.237679e+18</td>\n",
              "      <td>39.620709</td>\n",
              "      <td>-2.594074</td>\n",
              "      <td>22.16759</td>\n",
              "      <td>22.97586</td>\n",
              "      <td>21.90404</td>\n",
              "      <td>21.30548</td>\n",
              "      <td>20.73569</td>\n",
              "      <td>7778</td>\n",
              "      <td>301</td>\n",
              "      <td>2</td>\n",
              "      <td>581</td>\n",
              "      <td>1.055431e+19</td>\n",
              "      <td>GALAXY</td>\n",
              "      <td>0.000000</td>\n",
              "      <td>9374</td>\n",
              "      <td>57749</td>\n",
              "      <td>438</td>\n",
              "    </tr>\n",
              "    <tr>\n",
              "      <th>99996</th>\n",
              "      <td>1.237679e+18</td>\n",
              "      <td>29.493819</td>\n",
              "      <td>19.798874</td>\n",
              "      <td>22.69118</td>\n",
              "      <td>22.38628</td>\n",
              "      <td>20.45003</td>\n",
              "      <td>19.75759</td>\n",
              "      <td>19.41526</td>\n",
              "      <td>7917</td>\n",
              "      <td>301</td>\n",
              "      <td>1</td>\n",
              "      <td>289</td>\n",
              "      <td>8.586351e+18</td>\n",
              "      <td>GALAXY</td>\n",
              "      <td>0.404895</td>\n",
              "      <td>7626</td>\n",
              "      <td>56934</td>\n",
              "      <td>866</td>\n",
              "    </tr>\n",
              "    <tr>\n",
              "      <th>99997</th>\n",
              "      <td>1.237668e+18</td>\n",
              "      <td>224.587407</td>\n",
              "      <td>15.700707</td>\n",
              "      <td>21.16916</td>\n",
              "      <td>19.26997</td>\n",
              "      <td>18.20428</td>\n",
              "      <td>17.69034</td>\n",
              "      <td>17.35221</td>\n",
              "      <td>5314</td>\n",
              "      <td>301</td>\n",
              "      <td>4</td>\n",
              "      <td>308</td>\n",
              "      <td>3.112008e+18</td>\n",
              "      <td>GALAXY</td>\n",
              "      <td>0.143366</td>\n",
              "      <td>2764</td>\n",
              "      <td>54535</td>\n",
              "      <td>74</td>\n",
              "    </tr>\n",
              "    <tr>\n",
              "      <th>99998</th>\n",
              "      <td>1.237661e+18</td>\n",
              "      <td>212.268621</td>\n",
              "      <td>46.660365</td>\n",
              "      <td>25.35039</td>\n",
              "      <td>21.63757</td>\n",
              "      <td>19.91386</td>\n",
              "      <td>19.07254</td>\n",
              "      <td>18.62482</td>\n",
              "      <td>3650</td>\n",
              "      <td>301</td>\n",
              "      <td>4</td>\n",
              "      <td>131</td>\n",
              "      <td>7.601080e+18</td>\n",
              "      <td>GALAXY</td>\n",
              "      <td>0.455040</td>\n",
              "      <td>6751</td>\n",
              "      <td>56368</td>\n",
              "      <td>470</td>\n",
              "    </tr>\n",
              "    <tr>\n",
              "      <th>99999</th>\n",
              "      <td>1.237661e+18</td>\n",
              "      <td>196.896053</td>\n",
              "      <td>49.464643</td>\n",
              "      <td>22.62171</td>\n",
              "      <td>21.79745</td>\n",
              "      <td>20.60115</td>\n",
              "      <td>20.00959</td>\n",
              "      <td>19.28075</td>\n",
              "      <td>3650</td>\n",
              "      <td>301</td>\n",
              "      <td>4</td>\n",
              "      <td>60</td>\n",
              "      <td>8.343152e+18</td>\n",
              "      <td>GALAXY</td>\n",
              "      <td>0.542944</td>\n",
              "      <td>7410</td>\n",
              "      <td>57104</td>\n",
              "      <td>851</td>\n",
              "    </tr>\n",
              "  </tbody>\n",
              "</table>\n",
              "<p>100000 rows × 18 columns</p>\n",
              "</div>\n",
              "      <button class=\"colab-df-convert\" onclick=\"convertToInteractive('df-84d9a163-1523-41b1-af0e-d02305e42622')\"\n",
              "              title=\"Convert this dataframe to an interactive table.\"\n",
              "              style=\"display:none;\">\n",
              "        \n",
              "  <svg xmlns=\"http://www.w3.org/2000/svg\" height=\"24px\"viewBox=\"0 0 24 24\"\n",
              "       width=\"24px\">\n",
              "    <path d=\"M0 0h24v24H0V0z\" fill=\"none\"/>\n",
              "    <path d=\"M18.56 5.44l.94 2.06.94-2.06 2.06-.94-2.06-.94-.94-2.06-.94 2.06-2.06.94zm-11 1L8.5 8.5l.94-2.06 2.06-.94-2.06-.94L8.5 2.5l-.94 2.06-2.06.94zm10 10l.94 2.06.94-2.06 2.06-.94-2.06-.94-.94-2.06-.94 2.06-2.06.94z\"/><path d=\"M17.41 7.96l-1.37-1.37c-.4-.4-.92-.59-1.43-.59-.52 0-1.04.2-1.43.59L10.3 9.45l-7.72 7.72c-.78.78-.78 2.05 0 2.83L4 21.41c.39.39.9.59 1.41.59.51 0 1.02-.2 1.41-.59l7.78-7.78 2.81-2.81c.8-.78.8-2.07 0-2.86zM5.41 20L4 18.59l7.72-7.72 1.47 1.35L5.41 20z\"/>\n",
              "  </svg>\n",
              "      </button>\n",
              "      \n",
              "  <style>\n",
              "    .colab-df-container {\n",
              "      display:flex;\n",
              "      flex-wrap:wrap;\n",
              "      gap: 12px;\n",
              "    }\n",
              "\n",
              "    .colab-df-convert {\n",
              "      background-color: #E8F0FE;\n",
              "      border: none;\n",
              "      border-radius: 50%;\n",
              "      cursor: pointer;\n",
              "      display: none;\n",
              "      fill: #1967D2;\n",
              "      height: 32px;\n",
              "      padding: 0 0 0 0;\n",
              "      width: 32px;\n",
              "    }\n",
              "\n",
              "    .colab-df-convert:hover {\n",
              "      background-color: #E2EBFA;\n",
              "      box-shadow: 0px 1px 2px rgba(60, 64, 67, 0.3), 0px 1px 3px 1px rgba(60, 64, 67, 0.15);\n",
              "      fill: #174EA6;\n",
              "    }\n",
              "\n",
              "    [theme=dark] .colab-df-convert {\n",
              "      background-color: #3B4455;\n",
              "      fill: #D2E3FC;\n",
              "    }\n",
              "\n",
              "    [theme=dark] .colab-df-convert:hover {\n",
              "      background-color: #434B5C;\n",
              "      box-shadow: 0px 1px 3px 1px rgba(0, 0, 0, 0.15);\n",
              "      filter: drop-shadow(0px 1px 2px rgba(0, 0, 0, 0.3));\n",
              "      fill: #FFFFFF;\n",
              "    }\n",
              "  </style>\n",
              "\n",
              "      <script>\n",
              "        const buttonEl =\n",
              "          document.querySelector('#df-84d9a163-1523-41b1-af0e-d02305e42622 button.colab-df-convert');\n",
              "        buttonEl.style.display =\n",
              "          google.colab.kernel.accessAllowed ? 'block' : 'none';\n",
              "\n",
              "        async function convertToInteractive(key) {\n",
              "          const element = document.querySelector('#df-84d9a163-1523-41b1-af0e-d02305e42622');\n",
              "          const dataTable =\n",
              "            await google.colab.kernel.invokeFunction('convertToInteractive',\n",
              "                                                     [key], {});\n",
              "          if (!dataTable) return;\n",
              "\n",
              "          const docLinkHtml = 'Like what you see? Visit the ' +\n",
              "            '<a target=\"_blank\" href=https://colab.research.google.com/notebooks/data_table.ipynb>data table notebook</a>'\n",
              "            + ' to learn more about interactive tables.';\n",
              "          element.innerHTML = '';\n",
              "          dataTable['output_type'] = 'display_data';\n",
              "          await google.colab.output.renderOutput(dataTable, element);\n",
              "          const docLink = document.createElement('div');\n",
              "          docLink.innerHTML = docLinkHtml;\n",
              "          element.appendChild(docLink);\n",
              "        }\n",
              "      </script>\n",
              "    </div>\n",
              "  </div>\n",
              "  "
            ]
          },
          "metadata": {},
          "execution_count": 2
        }
      ],
      "source": [
        "star_dataset =pd.read_csv(\"/content/star_classification.csv\", sep =\",\")\n",
        "star_dataset"
      ]
    },
    {
      "cell_type": "markdown",
      "metadata": {
        "id": "kU-uqFYPcq4K"
      },
      "source": [
        "**renaming columns**"
      ]
    },
    {
      "cell_type": "code",
      "execution_count": 3,
      "metadata": {
        "colab": {
          "base_uri": "https://localhost:8080/",
          "height": 488
        },
        "id": "udIqwwwdKsU5",
        "outputId": "a724091a-0071-48b6-e195-ef41f3983593"
      },
      "outputs": [
        {
          "output_type": "execute_result",
          "data": {
            "text/plain": [
              "             obj_ID       alpha      delta  ultraviolet_filter  green_filter  \\\n",
              "0      1.237661e+18  135.689107  32.494632            23.87882      22.27530   \n",
              "1      1.237665e+18  144.826101  31.274185            24.77759      22.83188   \n",
              "2      1.237661e+18  142.188790  35.582444            25.26307      22.66389   \n",
              "3      1.237663e+18  338.741038  -0.402828            22.13682      23.77656   \n",
              "4      1.237680e+18  345.282593  21.183866            19.43718      17.58028   \n",
              "...             ...         ...        ...                 ...           ...   \n",
              "99995  1.237679e+18   39.620709  -2.594074            22.16759      22.97586   \n",
              "99996  1.237679e+18   29.493819  19.798874            22.69118      22.38628   \n",
              "99997  1.237668e+18  224.587407  15.700707            21.16916      19.26997   \n",
              "99998  1.237661e+18  212.268621  46.660365            25.35039      21.63757   \n",
              "99999  1.237661e+18  196.896053  49.464643            22.62171      21.79745   \n",
              "\n",
              "       red_filter  near_infrared_filter  infrared_filter  run_number  \\\n",
              "0        20.39501              19.16573         18.79371        3606   \n",
              "1        22.58444              21.16812         21.61427        4518   \n",
              "2        20.60976              19.34857         18.94827        3606   \n",
              "3        21.61162              20.50454         19.25010        4192   \n",
              "4        16.49747              15.97711         15.54461        8102   \n",
              "...           ...                   ...              ...         ...   \n",
              "99995    21.90404              21.30548         20.73569        7778   \n",
              "99996    20.45003              19.75759         19.41526        7917   \n",
              "99997    18.20428              17.69034         17.35221        5314   \n",
              "99998    19.91386              19.07254         18.62482        3650   \n",
              "99999    20.60115              20.00959         19.28075        3650   \n",
              "\n",
              "       rerun_number  camera_column  field_ID   spec_obj_ID   class  redshift  \\\n",
              "0               301              2        79  6.543777e+18  GALAXY  0.634794   \n",
              "1               301              5       119  1.176014e+19  GALAXY  0.779136   \n",
              "2               301              2       120  5.152200e+18  GALAXY  0.644195   \n",
              "3               301              3       214  1.030107e+19  GALAXY  0.932346   \n",
              "4               301              3       137  6.891865e+18  GALAXY  0.116123   \n",
              "...             ...            ...       ...           ...     ...       ...   \n",
              "99995           301              2       581  1.055431e+19  GALAXY  0.000000   \n",
              "99996           301              1       289  8.586351e+18  GALAXY  0.404895   \n",
              "99997           301              4       308  3.112008e+18  GALAXY  0.143366   \n",
              "99998           301              4       131  7.601080e+18  GALAXY  0.455040   \n",
              "99999           301              4        60  8.343152e+18  GALAXY  0.542944   \n",
              "\n",
              "       plate_id  modified_julian_date  fiber_ID  \n",
              "0          5812                 56354       171  \n",
              "1         10445                 58158       427  \n",
              "2          4576                 55592       299  \n",
              "3          9149                 58039       775  \n",
              "4          6121                 56187       842  \n",
              "...         ...                   ...       ...  \n",
              "99995      9374                 57749       438  \n",
              "99996      7626                 56934       866  \n",
              "99997      2764                 54535        74  \n",
              "99998      6751                 56368       470  \n",
              "99999      7410                 57104       851  \n",
              "\n",
              "[100000 rows x 18 columns]"
            ],
            "text/html": [
              "\n",
              "  <div id=\"df-943e53eb-f6f4-45c6-8433-030085ac88bc\">\n",
              "    <div class=\"colab-df-container\">\n",
              "      <div>\n",
              "<style scoped>\n",
              "    .dataframe tbody tr th:only-of-type {\n",
              "        vertical-align: middle;\n",
              "    }\n",
              "\n",
              "    .dataframe tbody tr th {\n",
              "        vertical-align: top;\n",
              "    }\n",
              "\n",
              "    .dataframe thead th {\n",
              "        text-align: right;\n",
              "    }\n",
              "</style>\n",
              "<table border=\"1\" class=\"dataframe\">\n",
              "  <thead>\n",
              "    <tr style=\"text-align: right;\">\n",
              "      <th></th>\n",
              "      <th>obj_ID</th>\n",
              "      <th>alpha</th>\n",
              "      <th>delta</th>\n",
              "      <th>ultraviolet_filter</th>\n",
              "      <th>green_filter</th>\n",
              "      <th>red_filter</th>\n",
              "      <th>near_infrared_filter</th>\n",
              "      <th>infrared_filter</th>\n",
              "      <th>run_number</th>\n",
              "      <th>rerun_number</th>\n",
              "      <th>camera_column</th>\n",
              "      <th>field_ID</th>\n",
              "      <th>spec_obj_ID</th>\n",
              "      <th>class</th>\n",
              "      <th>redshift</th>\n",
              "      <th>plate_id</th>\n",
              "      <th>modified_julian_date</th>\n",
              "      <th>fiber_ID</th>\n",
              "    </tr>\n",
              "  </thead>\n",
              "  <tbody>\n",
              "    <tr>\n",
              "      <th>0</th>\n",
              "      <td>1.237661e+18</td>\n",
              "      <td>135.689107</td>\n",
              "      <td>32.494632</td>\n",
              "      <td>23.87882</td>\n",
              "      <td>22.27530</td>\n",
              "      <td>20.39501</td>\n",
              "      <td>19.16573</td>\n",
              "      <td>18.79371</td>\n",
              "      <td>3606</td>\n",
              "      <td>301</td>\n",
              "      <td>2</td>\n",
              "      <td>79</td>\n",
              "      <td>6.543777e+18</td>\n",
              "      <td>GALAXY</td>\n",
              "      <td>0.634794</td>\n",
              "      <td>5812</td>\n",
              "      <td>56354</td>\n",
              "      <td>171</td>\n",
              "    </tr>\n",
              "    <tr>\n",
              "      <th>1</th>\n",
              "      <td>1.237665e+18</td>\n",
              "      <td>144.826101</td>\n",
              "      <td>31.274185</td>\n",
              "      <td>24.77759</td>\n",
              "      <td>22.83188</td>\n",
              "      <td>22.58444</td>\n",
              "      <td>21.16812</td>\n",
              "      <td>21.61427</td>\n",
              "      <td>4518</td>\n",
              "      <td>301</td>\n",
              "      <td>5</td>\n",
              "      <td>119</td>\n",
              "      <td>1.176014e+19</td>\n",
              "      <td>GALAXY</td>\n",
              "      <td>0.779136</td>\n",
              "      <td>10445</td>\n",
              "      <td>58158</td>\n",
              "      <td>427</td>\n",
              "    </tr>\n",
              "    <tr>\n",
              "      <th>2</th>\n",
              "      <td>1.237661e+18</td>\n",
              "      <td>142.188790</td>\n",
              "      <td>35.582444</td>\n",
              "      <td>25.26307</td>\n",
              "      <td>22.66389</td>\n",
              "      <td>20.60976</td>\n",
              "      <td>19.34857</td>\n",
              "      <td>18.94827</td>\n",
              "      <td>3606</td>\n",
              "      <td>301</td>\n",
              "      <td>2</td>\n",
              "      <td>120</td>\n",
              "      <td>5.152200e+18</td>\n",
              "      <td>GALAXY</td>\n",
              "      <td>0.644195</td>\n",
              "      <td>4576</td>\n",
              "      <td>55592</td>\n",
              "      <td>299</td>\n",
              "    </tr>\n",
              "    <tr>\n",
              "      <th>3</th>\n",
              "      <td>1.237663e+18</td>\n",
              "      <td>338.741038</td>\n",
              "      <td>-0.402828</td>\n",
              "      <td>22.13682</td>\n",
              "      <td>23.77656</td>\n",
              "      <td>21.61162</td>\n",
              "      <td>20.50454</td>\n",
              "      <td>19.25010</td>\n",
              "      <td>4192</td>\n",
              "      <td>301</td>\n",
              "      <td>3</td>\n",
              "      <td>214</td>\n",
              "      <td>1.030107e+19</td>\n",
              "      <td>GALAXY</td>\n",
              "      <td>0.932346</td>\n",
              "      <td>9149</td>\n",
              "      <td>58039</td>\n",
              "      <td>775</td>\n",
              "    </tr>\n",
              "    <tr>\n",
              "      <th>4</th>\n",
              "      <td>1.237680e+18</td>\n",
              "      <td>345.282593</td>\n",
              "      <td>21.183866</td>\n",
              "      <td>19.43718</td>\n",
              "      <td>17.58028</td>\n",
              "      <td>16.49747</td>\n",
              "      <td>15.97711</td>\n",
              "      <td>15.54461</td>\n",
              "      <td>8102</td>\n",
              "      <td>301</td>\n",
              "      <td>3</td>\n",
              "      <td>137</td>\n",
              "      <td>6.891865e+18</td>\n",
              "      <td>GALAXY</td>\n",
              "      <td>0.116123</td>\n",
              "      <td>6121</td>\n",
              "      <td>56187</td>\n",
              "      <td>842</td>\n",
              "    </tr>\n",
              "    <tr>\n",
              "      <th>...</th>\n",
              "      <td>...</td>\n",
              "      <td>...</td>\n",
              "      <td>...</td>\n",
              "      <td>...</td>\n",
              "      <td>...</td>\n",
              "      <td>...</td>\n",
              "      <td>...</td>\n",
              "      <td>...</td>\n",
              "      <td>...</td>\n",
              "      <td>...</td>\n",
              "      <td>...</td>\n",
              "      <td>...</td>\n",
              "      <td>...</td>\n",
              "      <td>...</td>\n",
              "      <td>...</td>\n",
              "      <td>...</td>\n",
              "      <td>...</td>\n",
              "      <td>...</td>\n",
              "    </tr>\n",
              "    <tr>\n",
              "      <th>99995</th>\n",
              "      <td>1.237679e+18</td>\n",
              "      <td>39.620709</td>\n",
              "      <td>-2.594074</td>\n",
              "      <td>22.16759</td>\n",
              "      <td>22.97586</td>\n",
              "      <td>21.90404</td>\n",
              "      <td>21.30548</td>\n",
              "      <td>20.73569</td>\n",
              "      <td>7778</td>\n",
              "      <td>301</td>\n",
              "      <td>2</td>\n",
              "      <td>581</td>\n",
              "      <td>1.055431e+19</td>\n",
              "      <td>GALAXY</td>\n",
              "      <td>0.000000</td>\n",
              "      <td>9374</td>\n",
              "      <td>57749</td>\n",
              "      <td>438</td>\n",
              "    </tr>\n",
              "    <tr>\n",
              "      <th>99996</th>\n",
              "      <td>1.237679e+18</td>\n",
              "      <td>29.493819</td>\n",
              "      <td>19.798874</td>\n",
              "      <td>22.69118</td>\n",
              "      <td>22.38628</td>\n",
              "      <td>20.45003</td>\n",
              "      <td>19.75759</td>\n",
              "      <td>19.41526</td>\n",
              "      <td>7917</td>\n",
              "      <td>301</td>\n",
              "      <td>1</td>\n",
              "      <td>289</td>\n",
              "      <td>8.586351e+18</td>\n",
              "      <td>GALAXY</td>\n",
              "      <td>0.404895</td>\n",
              "      <td>7626</td>\n",
              "      <td>56934</td>\n",
              "      <td>866</td>\n",
              "    </tr>\n",
              "    <tr>\n",
              "      <th>99997</th>\n",
              "      <td>1.237668e+18</td>\n",
              "      <td>224.587407</td>\n",
              "      <td>15.700707</td>\n",
              "      <td>21.16916</td>\n",
              "      <td>19.26997</td>\n",
              "      <td>18.20428</td>\n",
              "      <td>17.69034</td>\n",
              "      <td>17.35221</td>\n",
              "      <td>5314</td>\n",
              "      <td>301</td>\n",
              "      <td>4</td>\n",
              "      <td>308</td>\n",
              "      <td>3.112008e+18</td>\n",
              "      <td>GALAXY</td>\n",
              "      <td>0.143366</td>\n",
              "      <td>2764</td>\n",
              "      <td>54535</td>\n",
              "      <td>74</td>\n",
              "    </tr>\n",
              "    <tr>\n",
              "      <th>99998</th>\n",
              "      <td>1.237661e+18</td>\n",
              "      <td>212.268621</td>\n",
              "      <td>46.660365</td>\n",
              "      <td>25.35039</td>\n",
              "      <td>21.63757</td>\n",
              "      <td>19.91386</td>\n",
              "      <td>19.07254</td>\n",
              "      <td>18.62482</td>\n",
              "      <td>3650</td>\n",
              "      <td>301</td>\n",
              "      <td>4</td>\n",
              "      <td>131</td>\n",
              "      <td>7.601080e+18</td>\n",
              "      <td>GALAXY</td>\n",
              "      <td>0.455040</td>\n",
              "      <td>6751</td>\n",
              "      <td>56368</td>\n",
              "      <td>470</td>\n",
              "    </tr>\n",
              "    <tr>\n",
              "      <th>99999</th>\n",
              "      <td>1.237661e+18</td>\n",
              "      <td>196.896053</td>\n",
              "      <td>49.464643</td>\n",
              "      <td>22.62171</td>\n",
              "      <td>21.79745</td>\n",
              "      <td>20.60115</td>\n",
              "      <td>20.00959</td>\n",
              "      <td>19.28075</td>\n",
              "      <td>3650</td>\n",
              "      <td>301</td>\n",
              "      <td>4</td>\n",
              "      <td>60</td>\n",
              "      <td>8.343152e+18</td>\n",
              "      <td>GALAXY</td>\n",
              "      <td>0.542944</td>\n",
              "      <td>7410</td>\n",
              "      <td>57104</td>\n",
              "      <td>851</td>\n",
              "    </tr>\n",
              "  </tbody>\n",
              "</table>\n",
              "<p>100000 rows × 18 columns</p>\n",
              "</div>\n",
              "      <button class=\"colab-df-convert\" onclick=\"convertToInteractive('df-943e53eb-f6f4-45c6-8433-030085ac88bc')\"\n",
              "              title=\"Convert this dataframe to an interactive table.\"\n",
              "              style=\"display:none;\">\n",
              "        \n",
              "  <svg xmlns=\"http://www.w3.org/2000/svg\" height=\"24px\"viewBox=\"0 0 24 24\"\n",
              "       width=\"24px\">\n",
              "    <path d=\"M0 0h24v24H0V0z\" fill=\"none\"/>\n",
              "    <path d=\"M18.56 5.44l.94 2.06.94-2.06 2.06-.94-2.06-.94-.94-2.06-.94 2.06-2.06.94zm-11 1L8.5 8.5l.94-2.06 2.06-.94-2.06-.94L8.5 2.5l-.94 2.06-2.06.94zm10 10l.94 2.06.94-2.06 2.06-.94-2.06-.94-.94-2.06-.94 2.06-2.06.94z\"/><path d=\"M17.41 7.96l-1.37-1.37c-.4-.4-.92-.59-1.43-.59-.52 0-1.04.2-1.43.59L10.3 9.45l-7.72 7.72c-.78.78-.78 2.05 0 2.83L4 21.41c.39.39.9.59 1.41.59.51 0 1.02-.2 1.41-.59l7.78-7.78 2.81-2.81c.8-.78.8-2.07 0-2.86zM5.41 20L4 18.59l7.72-7.72 1.47 1.35L5.41 20z\"/>\n",
              "  </svg>\n",
              "      </button>\n",
              "      \n",
              "  <style>\n",
              "    .colab-df-container {\n",
              "      display:flex;\n",
              "      flex-wrap:wrap;\n",
              "      gap: 12px;\n",
              "    }\n",
              "\n",
              "    .colab-df-convert {\n",
              "      background-color: #E8F0FE;\n",
              "      border: none;\n",
              "      border-radius: 50%;\n",
              "      cursor: pointer;\n",
              "      display: none;\n",
              "      fill: #1967D2;\n",
              "      height: 32px;\n",
              "      padding: 0 0 0 0;\n",
              "      width: 32px;\n",
              "    }\n",
              "\n",
              "    .colab-df-convert:hover {\n",
              "      background-color: #E2EBFA;\n",
              "      box-shadow: 0px 1px 2px rgba(60, 64, 67, 0.3), 0px 1px 3px 1px rgba(60, 64, 67, 0.15);\n",
              "      fill: #174EA6;\n",
              "    }\n",
              "\n",
              "    [theme=dark] .colab-df-convert {\n",
              "      background-color: #3B4455;\n",
              "      fill: #D2E3FC;\n",
              "    }\n",
              "\n",
              "    [theme=dark] .colab-df-convert:hover {\n",
              "      background-color: #434B5C;\n",
              "      box-shadow: 0px 1px 3px 1px rgba(0, 0, 0, 0.15);\n",
              "      filter: drop-shadow(0px 1px 2px rgba(0, 0, 0, 0.3));\n",
              "      fill: #FFFFFF;\n",
              "    }\n",
              "  </style>\n",
              "\n",
              "      <script>\n",
              "        const buttonEl =\n",
              "          document.querySelector('#df-943e53eb-f6f4-45c6-8433-030085ac88bc button.colab-df-convert');\n",
              "        buttonEl.style.display =\n",
              "          google.colab.kernel.accessAllowed ? 'block' : 'none';\n",
              "\n",
              "        async function convertToInteractive(key) {\n",
              "          const element = document.querySelector('#df-943e53eb-f6f4-45c6-8433-030085ac88bc');\n",
              "          const dataTable =\n",
              "            await google.colab.kernel.invokeFunction('convertToInteractive',\n",
              "                                                     [key], {});\n",
              "          if (!dataTable) return;\n",
              "\n",
              "          const docLinkHtml = 'Like what you see? Visit the ' +\n",
              "            '<a target=\"_blank\" href=https://colab.research.google.com/notebooks/data_table.ipynb>data table notebook</a>'\n",
              "            + ' to learn more about interactive tables.';\n",
              "          element.innerHTML = '';\n",
              "          dataTable['output_type'] = 'display_data';\n",
              "          await google.colab.output.renderOutput(dataTable, element);\n",
              "          const docLink = document.createElement('div');\n",
              "          docLink.innerHTML = docLinkHtml;\n",
              "          element.appendChild(docLink);\n",
              "        }\n",
              "      </script>\n",
              "    </div>\n",
              "  </div>\n",
              "  "
            ]
          },
          "metadata": {},
          "execution_count": 3
        }
      ],
      "source": [
        "renamed_star=star_dataset.rename(columns={'u':'ultraviolet_filter','g':'green_filter','r':'red_filter','i':'near_infrared_filter','z':'infrared_filter','run_ID':'run_number','rerun_ID':'rerun_number','cam_col':'camera_column','plate':'plate_id','MJD':'modified_julian_date'})\n",
        "renamed_star"
      ]
    },
    {
      "cell_type": "markdown",
      "metadata": {
        "id": "_54MJIj2c1TJ"
      },
      "source": [
        "**checking for missing values**"
      ]
    },
    {
      "cell_type": "code",
      "execution_count": 4,
      "metadata": {
        "colab": {
          "base_uri": "https://localhost:8080/"
        },
        "id": "4NiAVxQTNdpk",
        "outputId": "9f3e7c32-74e6-4f9f-fc9d-1139059083f1"
      },
      "outputs": [
        {
          "output_type": "execute_result",
          "data": {
            "text/plain": [
              "obj_ID                  0\n",
              "alpha                   0\n",
              "delta                   0\n",
              "ultraviolet_filter      0\n",
              "green_filter            0\n",
              "red_filter              0\n",
              "near_infrared_filter    0\n",
              "infrared_filter         0\n",
              "run_number              0\n",
              "rerun_number            0\n",
              "camera_column           0\n",
              "field_ID                0\n",
              "spec_obj_ID             0\n",
              "class                   0\n",
              "redshift                0\n",
              "plate_id                0\n",
              "modified_julian_date    0\n",
              "fiber_ID                0\n",
              "dtype: int64"
            ]
          },
          "metadata": {},
          "execution_count": 4
        }
      ],
      "source": [
        "renamed_star.isna().sum()"
      ]
    },
    {
      "cell_type": "markdown",
      "metadata": {
        "id": "HMIZdYwRnLZq"
      },
      "source": [
        "**bar chart showing how the right ascension angle affects the stars, galaxies and quasars**"
      ]
    },
    {
      "cell_type": "code",
      "execution_count": 5,
      "metadata": {
        "colab": {
          "base_uri": "https://localhost:8080/",
          "height": 296
        },
        "id": "wa1dPF5g6YB-",
        "outputId": "8bb2324e-7c5f-40e2-d1b1-9bb711f64fb4"
      },
      "outputs": [
        {
          "output_type": "execute_result",
          "data": {
            "text/plain": [
              "<matplotlib.axes._subplots.AxesSubplot at 0x7f6ce85a8410>"
            ]
          },
          "metadata": {},
          "execution_count": 5
        },
        {
          "output_type": "display_data",
          "data": {
            "text/plain": [
              "<Figure size 432x288 with 1 Axes>"
            ],
            "image/png": "[encoded data removed]"
          },
          "metadata": {
            "needs_background": "light"
          }
        }
      ],
      "source": [
        "sns.barplot(x ='alpha', y = 'class', data = renamed_star)"
      ]
    },
    {
      "cell_type": "markdown",
      "metadata": {
        "id": "rEdB3V1JuSBx"
      },
      "source": [
        "**bar chart showing how the declination angle affects the stars,galaxies and quasars**"
      ]
    },
    {
      "cell_type": "code",
      "execution_count": 6,
      "metadata": {
        "colab": {
          "base_uri": "https://localhost:8080/",
          "height": 296
        },
        "id": "MPK2F_IC8mdz",
        "outputId": "83d8af18-9018-44bd-a359-5c01edfa901f"
      },
      "outputs": [
        {
          "output_type": "execute_result",
          "data": {
            "text/plain": [
              "<matplotlib.axes._subplots.AxesSubplot at 0x7f6ce850ba10>"
            ]
          },
          "metadata": {},
          "execution_count": 6
        },
        {
          "output_type": "display_data",
          "data": {
            "text/plain": [
              "<Figure size 432x288 with 1 Axes>"
            ],
            "image/png": "[encoded data removed]"
          },
          "metadata": {
            "needs_background": "light"
          }
        }
      ],
      "source": [
        "sns.barplot(x ='delta', y = 'class', data = renamed_star)"
      ]
    },
    {
      "cell_type": "markdown",
      "metadata": {
        "id": "WvVcv4ktxb1x"
      },
      "source": [
        "**this bar chart shows the relatinship between the class and the ultraviolet filter in the photometric system**"
      ]
    },
    {
      "cell_type": "code",
      "execution_count": 7,
      "metadata": {
        "colab": {
          "base_uri": "https://localhost:8080/",
          "height": 297
        },
        "id": "NzE02JIo8s0f",
        "outputId": "31615960-c878-4f69-8222-2a525ace390a"
      },
      "outputs": [
        {
          "output_type": "execute_result",
          "data": {
            "text/plain": [
              "<matplotlib.axes._subplots.AxesSubplot at 0x7f6ce802ba90>"
            ]
          },
          "metadata": {},
          "execution_count": 7
        },
        {
          "output_type": "display_data",
          "data": {
            "text/plain": [
              "<Figure size 432x288 with 1 Axes>"
            ],
            "image/png": "[encoded data removed]"
          },
          "metadata": {
            "needs_background": "light"
          }
        }
      ],
      "source": [
        "sns.barplot(x ='ultraviolet_filter', y = 'class', data = renamed_star)"
      ]
    },
    {
      "cell_type": "markdown",
      "metadata": {
        "id": "tsf9sgi6xplV"
      },
      "source": [
        "**bar chart showing the relationship between the green filter in the photometric system and the class**"
      ]
    },
    {
      "cell_type": "code",
      "execution_count": 8,
      "metadata": {
        "colab": {
          "base_uri": "https://localhost:8080/",
          "height": 297
        },
        "id": "53eEBP3D85_6",
        "outputId": "b9bb1fde-b0c5-451f-aebe-2b98a7f2e0fc"
      },
      "outputs": [
        {
          "output_type": "execute_result",
          "data": {
            "text/plain": [
              "<matplotlib.axes._subplots.AxesSubplot at 0x7f6ce7faae10>"
            ]
          },
          "metadata": {},
          "execution_count": 8
        },
        {
          "output_type": "display_data",
          "data": {
            "text/plain": [
              "<Figure size 432x288 with 1 Axes>"
            ],
            "image/png": "[encoded data removed]"
          },
          "metadata": {
            "needs_background": "light"
          }
        }
      ],
      "source": [
        "sns.barplot(x ='green_filter', y = 'class', data = renamed_star)"
      ]
    },
    {
      "cell_type": "markdown",
      "metadata": {
        "id": "LsXtRZizzX9a"
      },
      "source": [
        "**bar chart showing the relationship between the red filter in the photometric system and the class**"
      ]
    },
    {
      "cell_type": "code",
      "execution_count": 9,
      "metadata": {
        "colab": {
          "base_uri": "https://localhost:8080/",
          "height": 297
        },
        "id": "WIqeITFr9A-8",
        "outputId": "0959f708-d025-4776-d8e4-2544429a9b6d"
      },
      "outputs": [
        {
          "output_type": "execute_result",
          "data": {
            "text/plain": [
              "<matplotlib.axes._subplots.AxesSubplot at 0x7f6ce7f29150>"
            ]
          },
          "metadata": {},
          "execution_count": 9
        },
        {
          "output_type": "display_data",
          "data": {
            "text/plain": [
              "<Figure size 432x288 with 1 Axes>"
            ],
            "image/png": "[encoded data removed]"
          },
          "metadata": {
            "needs_background": "light"
          }
        }
      ],
      "source": [
        "sns.barplot(x ='red_filter', y = 'class', data = renamed_star)"
      ]
    },
    {
      "cell_type": "markdown",
      "metadata": {
        "id": "OBYRqN-Lzg86"
      },
      "source": [
        "**bar chart showing the relationship between the near infrared filter in the photometric system and the class**"
      ]
    },
    {
      "cell_type": "code",
      "execution_count": 10,
      "metadata": {
        "colab": {
          "base_uri": "https://localhost:8080/",
          "height": 297
        },
        "id": "mrNqMIIN9Flm",
        "outputId": "c58ff3b9-990f-4661-fb98-0675ef1d771c"
      },
      "outputs": [
        {
          "output_type": "execute_result",
          "data": {
            "text/plain": [
              "<matplotlib.axes._subplots.AxesSubplot at 0x7f6ce7e9e810>"
            ]
          },
          "metadata": {},
          "execution_count": 10
        },
        {
          "output_type": "display_data",
          "data": {
            "text/plain": [
              "<Figure size 432x288 with 1 Axes>"
            ],
            "image/png": "[encoded data removed]"
          },
          "metadata": {
            "needs_background": "light"
          }
        }
      ],
      "source": [
        "sns.barplot(x ='near_infrared_filter', y = 'class', data = renamed_star)"
      ]
    },
    {
      "cell_type": "markdown",
      "metadata": {
        "id": "kChpSyjazsz0"
      },
      "source": [
        "**bar chart showing the relationship between the infrared filter in the photometric system and the class**"
      ]
    },
    {
      "cell_type": "code",
      "execution_count": 11,
      "metadata": {
        "colab": {
          "base_uri": "https://localhost:8080/",
          "height": 297
        },
        "id": "rwqVlxih9Ms5",
        "outputId": "17ef816a-ce80-49d8-cf2b-d1e817e6e2ef"
      },
      "outputs": [
        {
          "output_type": "execute_result",
          "data": {
            "text/plain": [
              "<matplotlib.axes._subplots.AxesSubplot at 0x7f6ce7e21710>"
            ]
          },
          "metadata": {},
          "execution_count": 11
        },
        {
          "output_type": "display_data",
          "data": {
            "text/plain": [
              "<Figure size 432x288 with 1 Axes>"
            ],
            "image/png": "[encoded data removed]"
          },
          "metadata": {
            "needs_background": "light"
          }
        }
      ],
      "source": [
        "sns.barplot(x ='infrared_filter', y = 'class', data = renamed_star)"
      ]
    },
    {
      "cell_type": "markdown",
      "metadata": {
        "id": "zKuB5ttF0M4S"
      },
      "source": [
        "**bar chart showing the relationship between the redshift value based on the increase in wavelength and the class**"
      ]
    },
    {
      "cell_type": "code",
      "execution_count": 12,
      "metadata": {
        "colab": {
          "base_uri": "https://localhost:8080/",
          "height": 296
        },
        "id": "-voGXsZt9Vuf",
        "outputId": "e1d3b858-ecc9-4b3e-acf6-38bd6eee63b4"
      },
      "outputs": [
        {
          "output_type": "execute_result",
          "data": {
            "text/plain": [
              "<matplotlib.axes._subplots.AxesSubplot at 0x7f6ce7dfced0>"
            ]
          },
          "metadata": {},
          "execution_count": 12
        },
        {
          "output_type": "display_data",
          "data": {
            "text/plain": [
              "<Figure size 432x288 with 1 Axes>"
            ],
            "image/png": "[encoded data removed]"
          },
          "metadata": {
            "needs_background": "light"
          }
        }
      ],
      "source": [
        "sns.barplot(x ='redshift', y = 'class', data = renamed_star)"
      ]
    },
    {
      "cell_type": "markdown",
      "metadata": {
        "id": "ellH_Amk1B2V"
      },
      "source": [
        "****"
      ]
    },
    {
      "cell_type": "markdown",
      "metadata": {
        "id": "t3v5rvKS1TUx"
      },
      "source": [
        "**this bar plot shows the relationship between the class and the Camera column which is used to identify the scanline within the run**"
      ]
    },
    {
      "cell_type": "code",
      "execution_count": 13,
      "metadata": {
        "colab": {
          "base_uri": "https://localhost:8080/",
          "height": 297
        },
        "id": "YeSPSejX94G4",
        "outputId": "34618638-606d-4e66-c0bb-efa65212130f"
      },
      "outputs": [
        {
          "output_type": "execute_result",
          "data": {
            "text/plain": [
              "<matplotlib.axes._subplots.AxesSubplot at 0x7f6ce7d834d0>"
            ]
          },
          "metadata": {},
          "execution_count": 13
        },
        {
          "output_type": "display_data",
          "data": {
            "text/plain": [
              "<Figure size 432x288 with 1 Axes>"
            ],
            "image/png": "[encoded data removed]"
          },
          "metadata": {
            "needs_background": "light"
          }
        }
      ],
      "source": [
        "sns.barplot(x ='camera_column', y = 'class', data = renamed_star)"
      ]
    },
    {
      "cell_type": "markdown",
      "metadata": {
        "id": "77tZHnVipdwT"
      },
      "source": [
        "**boxplots to check for outliers**"
      ]
    },
    {
      "cell_type": "code",
      "execution_count": 14,
      "metadata": {
        "colab": {
          "base_uri": "https://localhost:8080/",
          "height": 1000
        },
        "id": "RBCItvRZZij8",
        "outputId": "c7067b68-6fd5-4440-a9b9-8a59bfa5f43f"
      },
      "outputs": [
        {
          "output_type": "display_data",
          "data": {
            "text/plain": [
              "<Figure size 720x360 with 1 Axes>"
            ],
            "image/png": "[encoded data removed]"
          },
          "metadata": {
            "needs_background": "light"
          }
        },
        {
          "output_type": "display_data",
          "data": {
            "text/plain": [
              "<Figure size 720x360 with 1 Axes>"
            ],
            "image/png": "[encoded data removed]"
          },
          "metadata": {
            "needs_background": "light"
          }
        },
        {
          "output_type": "display_data",
          "data": {
            "text/plain": [
              "<Figure size 720x360 with 1 Axes>"
            ],
            "image/png": "[encoded data removed]"
          },
          "metadata": {
            "needs_background": "light"
          }
        },
        {
          "output_type": "display_data",
          "data": {
            "text/plain": [
              "<Figure size 720x360 with 1 Axes>"
            ],
            "image/png": "[encoded data removed]"
          },
          "metadata": {
            "needs_background": "light"
          }
        },
        {
          "output_type": "display_data",
          "data": {
            "text/plain": [
              "<Figure size 720x360 with 1 Axes>"
            ],
            "image/png": "[encoded data removed]"
          },
          "metadata": {
            "needs_background": "light"
          }
        },
        {
          "output_type": "display_data",
          "data": {
            "text/plain": [
              "<Figure size 720x360 with 1 Axes>"
            ],
            "image/png": "[encoded data removed]"
          },
          "metadata": {
            "needs_background": "light"
          }
        },
        {
          "output_type": "display_data",
          "data": {
            "text/plain": [
              "<Figure size 720x360 with 1 Axes>"
            ],
            "image/png": "[encoded data removed]"
          },
          "metadata": {
            "needs_background": "light"
          }
        },
        {
          "output_type": "display_data",
          "data": {
            "text/plain": [
              "<Figure size 720x360 with 1 Axes>"
            ],
            "image/png": "[encoded data removed]"
          },
          "metadata": {
            "needs_background": "light"
          }
        },
        {
          "output_type": "display_data",
          "data": {
            "text/plain": [
              "<Figure size 720x360 with 1 Axes>"
            ],
            "image/png": "[encoded data removed]"
          },
          "metadata": {
            "needs_background": "light"
          }
        },
        {
          "output_type": "display_data",
          "data": {
            "text/plain": [
              "<Figure size 720x360 with 1 Axes>"
            ],
            "image/png": "[encoded data removed]"
          },
          "metadata": {
            "needs_background": "light"
          }
        }
      ],
      "source": [
        "for column in ['ultraviolet_filter', 'green_filter', 'red_filter', 'near_infrared_filter', 'infrared_filter', 'run_number', 'rerun_number', 'camera_column', 'modified_julian_date', 'redshift']:\n",
        "  plt.figure(figsize=(10, 5))\n",
        "  sns.boxplot(data = renamed_star, x = column)\n",
        "  plt.title(column)\n",
        "  plt.show()"
      ]
    },
    {
      "cell_type": "code",
      "execution_count": 15,
      "metadata": {
        "id": "GXo2OwE6XM8U"
      },
      "outputs": [],
      "source": [
        "# for column in ['ultraviolet_filter', 'green_filter', 'red_filter', 'near_infrared_filter', 'infrared_filter', 'run_number', 'rerun_number', 'camera_column', 'modified_julian_date', 'redshift']:\n",
        "#   plt.figure(figsize=(10, 5))\n",
        "#   sns.histplot(data = renamed_star, x = column, kde=\"line\")\n",
        "#   plt.title(column)\n",
        "#   plt.show()"
      ]
    },
    {
      "cell_type": "markdown",
      "source": [
        "**checking for outliers**"
      ],
      "metadata": {
        "id": "4MLkLSXxbyFK"
      }
    },
    {
      "cell_type": "code",
      "execution_count": 16,
      "metadata": {
        "colab": {
          "base_uri": "https://localhost:8080/",
          "height": 364
        },
        "id": "9CSy0aMMY37q",
        "outputId": "283f865b-35ca-4172-87aa-e3371b7872f5"
      },
      "outputs": [
        {
          "output_type": "execute_result",
          "data": {
            "text/plain": [
              "             obj_ID          alpha          delta  ultraviolet_filter  \\\n",
              "count  1.000000e+05  100000.000000  100000.000000       100000.000000   \n",
              "mean   1.237665e+18     177.629117      24.135305           21.980468   \n",
              "std    8.438560e+12      96.502241      19.644665           31.769291   \n",
              "min    1.237646e+18       0.005528     -18.785328        -9999.000000   \n",
              "25%    1.237659e+18     127.518222       5.146771           20.352353   \n",
              "50%    1.237663e+18     180.900700      23.645922           22.179135   \n",
              "75%    1.237668e+18     233.895005      39.901550           23.687440   \n",
              "max    1.237681e+18     359.999810      83.000519           32.781390   \n",
              "\n",
              "        green_filter     red_filter  near_infrared_filter  infrared_filter  \\\n",
              "count  100000.000000  100000.000000         100000.000000    100000.000000   \n",
              "mean       20.531387      19.645762             19.084854        18.668810   \n",
              "std        31.750292       1.854760              1.757895        31.728152   \n",
              "min     -9999.000000       9.822070              9.469903     -9999.000000   \n",
              "25%        18.965230      18.135828             17.732285        17.460677   \n",
              "50%        21.099835      20.125290             19.405145        19.004595   \n",
              "75%        22.123767      21.044785             20.396495        19.921120   \n",
              "max        31.602240      29.571860             32.141470        29.383740   \n",
              "\n",
              "          run_number  rerun_number  camera_column       field_ID  \\\n",
              "count  100000.000000      100000.0  100000.000000  100000.000000   \n",
              "mean     4481.366060         301.0       3.511610     186.130520   \n",
              "std      1964.764593           0.0       1.586912     149.011073   \n",
              "min       109.000000         301.0       1.000000      11.000000   \n",
              "25%      3187.000000         301.0       2.000000      82.000000   \n",
              "50%      4188.000000         301.0       4.000000     146.000000   \n",
              "75%      5326.000000         301.0       5.000000     241.000000   \n",
              "max      8162.000000         301.0       6.000000     989.000000   \n",
              "\n",
              "        spec_obj_ID       redshift       plate_id  modified_julian_date  \\\n",
              "count  1.000000e+05  100000.000000  100000.000000         100000.000000   \n",
              "mean   5.783882e+18       0.576661    5137.009660          55588.647500   \n",
              "std    3.324016e+18       0.730707    2952.303351           1808.484233   \n",
              "min    2.995191e+17      -0.009971     266.000000          51608.000000   \n",
              "25%    2.844138e+18       0.054517    2526.000000          54234.000000   \n",
              "50%    5.614883e+18       0.424173    4987.000000          55868.500000   \n",
              "75%    8.332144e+18       0.704154    7400.250000          56777.000000   \n",
              "max    1.412694e+19       7.011245   12547.000000          58932.000000   \n",
              "\n",
              "            fiber_ID  \n",
              "count  100000.000000  \n",
              "mean      449.312740  \n",
              "std       272.498404  \n",
              "min         1.000000  \n",
              "25%       221.000000  \n",
              "50%       433.000000  \n",
              "75%       645.000000  \n",
              "max      1000.000000  "
            ],
            "text/html": [
              "\n",
              "  <div id=\"df-043058f5-e641-4630-9c34-e7f7d730f802\">\n",
              "    <div class=\"colab-df-container\">\n",
              "      <div>\n",
              "<style scoped>\n",
              "    .dataframe tbody tr th:only-of-type {\n",
              "        vertical-align: middle;\n",
              "    }\n",
              "\n",
              "    .dataframe tbody tr th {\n",
              "        vertical-align: top;\n",
              "    }\n",
              "\n",
              "    .dataframe thead th {\n",
              "        text-align: right;\n",
              "    }\n",
              "</style>\n",
              "<table border=\"1\" class=\"dataframe\">\n",
              "  <thead>\n",
              "    <tr style=\"text-align: right;\">\n",
              "      <th></th>\n",
              "      <th>obj_ID</th>\n",
              "      <th>alpha</th>\n",
              "      <th>delta</th>\n",
              "      <th>ultraviolet_filter</th>\n",
              "      <th>green_filter</th>\n",
              "      <th>red_filter</th>\n",
              "      <th>near_infrared_filter</th>\n",
              "      <th>infrared_filter</th>\n",
              "      <th>run_number</th>\n",
              "      <th>rerun_number</th>\n",
              "      <th>camera_column</th>\n",
              "      <th>field_ID</th>\n",
              "      <th>spec_obj_ID</th>\n",
              "      <th>redshift</th>\n",
              "      <th>plate_id</th>\n",
              "      <th>modified_julian_date</th>\n",
              "      <th>fiber_ID</th>\n",
              "    </tr>\n",
              "  </thead>\n",
              "  <tbody>\n",
              "    <tr>\n",
              "      <th>count</th>\n",
              "      <td>1.000000e+05</td>\n",
              "      <td>100000.000000</td>\n",
              "      <td>100000.000000</td>\n",
              "      <td>100000.000000</td>\n",
              "      <td>100000.000000</td>\n",
              "      <td>100000.000000</td>\n",
              "      <td>100000.000000</td>\n",
              "      <td>100000.000000</td>\n",
              "      <td>100000.000000</td>\n",
              "      <td>100000.0</td>\n",
              "      <td>100000.000000</td>\n",
              "      <td>100000.000000</td>\n",
              "      <td>1.000000e+05</td>\n",
              "      <td>100000.000000</td>\n",
              "      <td>100000.000000</td>\n",
              "      <td>100000.000000</td>\n",
              "      <td>100000.000000</td>\n",
              "    </tr>\n",
              "    <tr>\n",
              "      <th>mean</th>\n",
              "      <td>1.237665e+18</td>\n",
              "      <td>177.629117</td>\n",
              "      <td>24.135305</td>\n",
              "      <td>21.980468</td>\n",
              "      <td>20.531387</td>\n",
              "      <td>19.645762</td>\n",
              "      <td>19.084854</td>\n",
              "      <td>18.668810</td>\n",
              "      <td>4481.366060</td>\n",
              "      <td>301.0</td>\n",
              "      <td>3.511610</td>\n",
              "      <td>186.130520</td>\n",
              "      <td>5.783882e+18</td>\n",
              "      <td>0.576661</td>\n",
              "      <td>5137.009660</td>\n",
              "      <td>55588.647500</td>\n",
              "      <td>449.312740</td>\n",
              "    </tr>\n",
              "    <tr>\n",
              "      <th>std</th>\n",
              "      <td>8.438560e+12</td>\n",
              "      <td>96.502241</td>\n",
              "      <td>19.644665</td>\n",
              "      <td>31.769291</td>\n",
              "      <td>31.750292</td>\n",
              "      <td>1.854760</td>\n",
              "      <td>1.757895</td>\n",
              "      <td>31.728152</td>\n",
              "      <td>1964.764593</td>\n",
              "      <td>0.0</td>\n",
              "      <td>1.586912</td>\n",
              "      <td>149.011073</td>\n",
              "      <td>3.324016e+18</td>\n",
              "      <td>0.730707</td>\n",
              "      <td>2952.303351</td>\n",
              "      <td>1808.484233</td>\n",
              "      <td>272.498404</td>\n",
              "    </tr>\n",
              "    <tr>\n",
              "      <th>min</th>\n",
              "      <td>1.237646e+18</td>\n",
              "      <td>0.005528</td>\n",
              "      <td>-18.785328</td>\n",
              "      <td>-9999.000000</td>\n",
              "      <td>-9999.000000</td>\n",
              "      <td>9.822070</td>\n",
              "      <td>9.469903</td>\n",
              "      <td>-9999.000000</td>\n",
              "      <td>109.000000</td>\n",
              "      <td>301.0</td>\n",
              "      <td>1.000000</td>\n",
              "      <td>11.000000</td>\n",
              "      <td>2.995191e+17</td>\n",
              "      <td>-0.009971</td>\n",
              "      <td>266.000000</td>\n",
              "      <td>51608.000000</td>\n",
              "      <td>1.000000</td>\n",
              "    </tr>\n",
              "    <tr>\n",
              "      <th>25%</th>\n",
              "      <td>1.237659e+18</td>\n",
              "      <td>127.518222</td>\n",
              "      <td>5.146771</td>\n",
              "      <td>20.352353</td>\n",
              "      <td>18.965230</td>\n",
              "      <td>18.135828</td>\n",
              "      <td>17.732285</td>\n",
              "      <td>17.460677</td>\n",
              "      <td>3187.000000</td>\n",
              "      <td>301.0</td>\n",
              "      <td>2.000000</td>\n",
              "      <td>82.000000</td>\n",
              "      <td>2.844138e+18</td>\n",
              "      <td>0.054517</td>\n",
              "      <td>2526.000000</td>\n",
              "      <td>54234.000000</td>\n",
              "      <td>221.000000</td>\n",
              "    </tr>\n",
              "    <tr>\n",
              "      <th>50%</th>\n",
              "      <td>1.237663e+18</td>\n",
              "      <td>180.900700</td>\n",
              "      <td>23.645922</td>\n",
              "      <td>22.179135</td>\n",
              "      <td>21.099835</td>\n",
              "      <td>20.125290</td>\n",
              "      <td>19.405145</td>\n",
              "      <td>19.004595</td>\n",
              "      <td>4188.000000</td>\n",
              "      <td>301.0</td>\n",
              "      <td>4.000000</td>\n",
              "      <td>146.000000</td>\n",
              "      <td>5.614883e+18</td>\n",
              "      <td>0.424173</td>\n",
              "      <td>4987.000000</td>\n",
              "      <td>55868.500000</td>\n",
              "      <td>433.000000</td>\n",
              "    </tr>\n",
              "    <tr>\n",
              "      <th>75%</th>\n",
              "      <td>1.237668e+18</td>\n",
              "      <td>233.895005</td>\n",
              "      <td>39.901550</td>\n",
              "      <td>23.687440</td>\n",
              "      <td>22.123767</td>\n",
              "      <td>21.044785</td>\n",
              "      <td>20.396495</td>\n",
              "      <td>19.921120</td>\n",
              "      <td>5326.000000</td>\n",
              "      <td>301.0</td>\n",
              "      <td>5.000000</td>\n",
              "      <td>241.000000</td>\n",
              "      <td>8.332144e+18</td>\n",
              "      <td>0.704154</td>\n",
              "      <td>7400.250000</td>\n",
              "      <td>56777.000000</td>\n",
              "      <td>645.000000</td>\n",
              "    </tr>\n",
              "    <tr>\n",
              "      <th>max</th>\n",
              "      <td>1.237681e+18</td>\n",
              "      <td>359.999810</td>\n",
              "      <td>83.000519</td>\n",
              "      <td>32.781390</td>\n",
              "      <td>31.602240</td>\n",
              "      <td>29.571860</td>\n",
              "      <td>32.141470</td>\n",
              "      <td>29.383740</td>\n",
              "      <td>8162.000000</td>\n",
              "      <td>301.0</td>\n",
              "      <td>6.000000</td>\n",
              "      <td>989.000000</td>\n",
              "      <td>1.412694e+19</td>\n",
              "      <td>7.011245</td>\n",
              "      <td>12547.000000</td>\n",
              "      <td>58932.000000</td>\n",
              "      <td>1000.000000</td>\n",
              "    </tr>\n",
              "  </tbody>\n",
              "</table>\n",
              "</div>\n",
              "      <button class=\"colab-df-convert\" onclick=\"convertToInteractive('df-043058f5-e641-4630-9c34-e7f7d730f802')\"\n",
              "              title=\"Convert this dataframe to an interactive table.\"\n",
              "              style=\"display:none;\">\n",
              "        \n",
              "  <svg xmlns=\"http://www.w3.org/2000/svg\" height=\"24px\"viewBox=\"0 0 24 24\"\n",
              "       width=\"24px\">\n",
              "    <path d=\"M0 0h24v24H0V0z\" fill=\"none\"/>\n",
              "    <path d=\"M18.56 5.44l.94 2.06.94-2.06 2.06-.94-2.06-.94-.94-2.06-.94 2.06-2.06.94zm-11 1L8.5 8.5l.94-2.06 2.06-.94-2.06-.94L8.5 2.5l-.94 2.06-2.06.94zm10 10l.94 2.06.94-2.06 2.06-.94-2.06-.94-.94-2.06-.94 2.06-2.06.94z\"/><path d=\"M17.41 7.96l-1.37-1.37c-.4-.4-.92-.59-1.43-.59-.52 0-1.04.2-1.43.59L10.3 9.45l-7.72 7.72c-.78.78-.78 2.05 0 2.83L4 21.41c.39.39.9.59 1.41.59.51 0 1.02-.2 1.41-.59l7.78-7.78 2.81-2.81c.8-.78.8-2.07 0-2.86zM5.41 20L4 18.59l7.72-7.72 1.47 1.35L5.41 20z\"/>\n",
              "  </svg>\n",
              "      </button>\n",
              "      \n",
              "  <style>\n",
              "    .colab-df-container {\n",
              "      display:flex;\n",
              "      flex-wrap:wrap;\n",
              "      gap: 12px;\n",
              "    }\n",
              "\n",
              "    .colab-df-convert {\n",
              "      background-color: #E8F0FE;\n",
              "      border: none;\n",
              "      border-radius: 50%;\n",
              "      cursor: pointer;\n",
              "      display: none;\n",
              "      fill: #1967D2;\n",
              "      height: 32px;\n",
              "      padding: 0 0 0 0;\n",
              "      width: 32px;\n",
              "    }\n",
              "\n",
              "    .colab-df-convert:hover {\n",
              "      background-color: #E2EBFA;\n",
              "      box-shadow: 0px 1px 2px rgba(60, 64, 67, 0.3), 0px 1px 3px 1px rgba(60, 64, 67, 0.15);\n",
              "      fill: #174EA6;\n",
              "    }\n",
              "\n",
              "    [theme=dark] .colab-df-convert {\n",
              "      background-color: #3B4455;\n",
              "      fill: #D2E3FC;\n",
              "    }\n",
              "\n",
              "    [theme=dark] .colab-df-convert:hover {\n",
              "      background-color: #434B5C;\n",
              "      box-shadow: 0px 1px 3px 1px rgba(0, 0, 0, 0.15);\n",
              "      filter: drop-shadow(0px 1px 2px rgba(0, 0, 0, 0.3));\n",
              "      fill: #FFFFFF;\n",
              "    }\n",
              "  </style>\n",
              "\n",
              "      <script>\n",
              "        const buttonEl =\n",
              "          document.querySelector('#df-043058f5-e641-4630-9c34-e7f7d730f802 button.colab-df-convert');\n",
              "        buttonEl.style.display =\n",
              "          google.colab.kernel.accessAllowed ? 'block' : 'none';\n",
              "\n",
              "        async function convertToInteractive(key) {\n",
              "          const element = document.querySelector('#df-043058f5-e641-4630-9c34-e7f7d730f802');\n",
              "          const dataTable =\n",
              "            await google.colab.kernel.invokeFunction('convertToInteractive',\n",
              "                                                     [key], {});\n",
              "          if (!dataTable) return;\n",
              "\n",
              "          const docLinkHtml = 'Like what you see? Visit the ' +\n",
              "            '<a target=\"_blank\" href=https://colab.research.google.com/notebooks/data_table.ipynb>data table notebook</a>'\n",
              "            + ' to learn more about interactive tables.';\n",
              "          element.innerHTML = '';\n",
              "          dataTable['output_type'] = 'display_data';\n",
              "          await google.colab.output.renderOutput(dataTable, element);\n",
              "          const docLink = document.createElement('div');\n",
              "          docLink.innerHTML = docLinkHtml;\n",
              "          element.appendChild(docLink);\n",
              "        }\n",
              "      </script>\n",
              "    </div>\n",
              "  </div>\n",
              "  "
            ]
          },
          "metadata": {},
          "execution_count": 16
        }
      ],
      "source": [
        "renamed_star.describe()"
      ]
    },
    {
      "cell_type": "markdown",
      "source": [
        "**fixing outliers**"
      ],
      "metadata": {
        "id": "XB8f6-yRb-pc"
      }
    },
    {
      "cell_type": "code",
      "execution_count": 17,
      "metadata": {
        "id": "ZNT5tp7GrckI"
      },
      "outputs": [],
      "source": [
        "renamed_star['red_filter'] = np.where(renamed_star['red_filter'] > 21.044785, 21.044785, renamed_star['red_filter'])\n",
        "renamed_star['red_filter'] = np.where(renamed_star['red_filter'] < 18.135828, 18.135828, renamed_star['red_filter'])\n",
        "renamed_star['near_infrared_filter'] = np.where(renamed_star['near_infrared_filter'] > 20.396495, 20.396495, renamed_star['near_infrared_filter'])\n",
        "renamed_star['near_infrared_filter'] = np.where(renamed_star['near_infrared_filter'] < 17.732285, 17.732285, renamed_star['near_infrared_filter'])\n",
        "renamed_star['redshift'] = np.where(renamed_star['redshift'] > 0.704154, 0.704154, renamed_star['redshift'])"
      ]
    },
    {
      "cell_type": "markdown",
      "source": [
        "**dropping irrelevant columns**"
      ],
      "metadata": {
        "id": "3hd2vOZacD1q"
      }
    },
    {
      "cell_type": "code",
      "execution_count": 18,
      "metadata": {
        "id": "IvFiOfxsvZxp"
      },
      "outputs": [],
      "source": [
        "new_star=renamed_star.drop(columns =['obj_ID','spec_obj_ID','plate_id','fiber_ID'])"
      ]
    },
    {
      "cell_type": "markdown",
      "source": [
        "**plotting heatmap to show relationship between and among dependent and independent variables**"
      ],
      "metadata": {
        "id": "_8JUESIScPpm"
      }
    },
    {
      "cell_type": "code",
      "execution_count": 19,
      "metadata": {
        "colab": {
          "base_uri": "https://localhost:8080/",
          "height": 706
        },
        "id": "NCI1inMoG2-k",
        "outputId": "cb8f7682-14a8-4812-e4ff-02fd0cfb3e48"
      },
      "outputs": [
        {
          "output_type": "execute_result",
          "data": {
            "text/plain": [
              "<matplotlib.axes._subplots.AxesSubplot at 0x7f6ce7f15bd0>"
            ]
          },
          "metadata": {},
          "execution_count": 19
        },
        {
          "output_type": "display_data",
          "data": {
            "text/plain": [
              "<Figure size 1080x720 with 2 Axes>"
            ],
            "image/png": "[encoded data removed]"
          },
          "metadata": {
            "needs_background": "light"
          }
        }
      ],
      "source": [
        "plt.figure(figsize=(15, 10))\n",
        "sns.heatmap(new_star.corr(), annot = True)"
      ]
    },
    {
      "cell_type": "markdown",
      "source": [
        "**using the ordinal encoder function to encode the class to numerical values**"
      ],
      "metadata": {
        "id": "1ZW_H21zePAe"
      }
    },
    {
      "cell_type": "code",
      "execution_count": 20,
      "metadata": {
        "colab": {
          "base_uri": "https://localhost:8080/",
          "height": 488
        },
        "id": "VivKf4tEJBDj",
        "outputId": "d36f8af9-3766-48dc-f014-930055049923"
      },
      "outputs": [
        {
          "output_type": "execute_result",
          "data": {
            "text/plain": [
              "            alpha      delta  ultraviolet_filter  green_filter  red_filter  \\\n",
              "0      135.689107  32.494632            23.87882      22.27530   20.395010   \n",
              "1      144.826101  31.274185            24.77759      22.83188   21.044785   \n",
              "2      142.188790  35.582444            25.26307      22.66389   20.609760   \n",
              "3      338.741038  -0.402828            22.13682      23.77656   21.044785   \n",
              "4      345.282593  21.183866            19.43718      17.58028   18.135828   \n",
              "...           ...        ...                 ...           ...         ...   \n",
              "99995   39.620709  -2.594074            22.16759      22.97586   21.044785   \n",
              "99996   29.493819  19.798874            22.69118      22.38628   20.450030   \n",
              "99997  224.587407  15.700707            21.16916      19.26997   18.204280   \n",
              "99998  212.268621  46.660365            25.35039      21.63757   19.913860   \n",
              "99999  196.896053  49.464643            22.62171      21.79745   20.601150   \n",
              "\n",
              "       near_infrared_filter  infrared_filter  run_number  rerun_number  \\\n",
              "0                 19.165730         18.79371        3606           301   \n",
              "1                 20.396495         21.61427        4518           301   \n",
              "2                 19.348570         18.94827        3606           301   \n",
              "3                 20.396495         19.25010        4192           301   \n",
              "4                 17.732285         15.54461        8102           301   \n",
              "...                     ...              ...         ...           ...   \n",
              "99995             20.396495         20.73569        7778           301   \n",
              "99996             19.757590         19.41526        7917           301   \n",
              "99997             17.732285         17.35221        5314           301   \n",
              "99998             19.072540         18.62482        3650           301   \n",
              "99999             20.009590         19.28075        3650           301   \n",
              "\n",
              "       camera_column  field_ID   class  redshift  modified_julian_date  \\\n",
              "0                  2        79  GALAXY  0.634794                 56354   \n",
              "1                  5       119  GALAXY  0.704154                 58158   \n",
              "2                  2       120  GALAXY  0.644195                 55592   \n",
              "3                  3       214  GALAXY  0.704154                 58039   \n",
              "4                  3       137  GALAXY  0.116123                 56187   \n",
              "...              ...       ...     ...       ...                   ...   \n",
              "99995              2       581  GALAXY  0.000000                 57749   \n",
              "99996              1       289  GALAXY  0.404895                 56934   \n",
              "99997              4       308  GALAXY  0.143366                 54535   \n",
              "99998              4       131  GALAXY  0.455040                 56368   \n",
              "99999              4        60  GALAXY  0.542944                 57104   \n",
              "\n",
              "       class1    fee  \n",
              "0         0.0   68.0  \n",
              "1         0.0  108.0  \n",
              "2         0.0  109.0  \n",
              "3         0.0  203.0  \n",
              "4         0.0  126.0  \n",
              "...       ...    ...  \n",
              "99995     0.0  570.0  \n",
              "99996     0.0  278.0  \n",
              "99997     0.0  297.0  \n",
              "99998     0.0  120.0  \n",
              "99999     0.0   49.0  \n",
              "\n",
              "[100000 rows x 16 columns]"
            ],
            "text/html": [
              "\n",
              "  <div id=\"df-3df97f6a-6cff-4684-a693-bb46da778c78\">\n",
              "    <div class=\"colab-df-container\">\n",
              "      <div>\n",
              "<style scoped>\n",
              "    .dataframe tbody tr th:only-of-type {\n",
              "        vertical-align: middle;\n",
              "    }\n",
              "\n",
              "    .dataframe tbody tr th {\n",
              "        vertical-align: top;\n",
              "    }\n",
              "\n",
              "    .dataframe thead th {\n",
              "        text-align: right;\n",
              "    }\n",
              "</style>\n",
              "<table border=\"1\" class=\"dataframe\">\n",
              "  <thead>\n",
              "    <tr style=\"text-align: right;\">\n",
              "      <th></th>\n",
              "      <th>alpha</th>\n",
              "      <th>delta</th>\n",
              "      <th>ultraviolet_filter</th>\n",
              "      <th>green_filter</th>\n",
              "      <th>red_filter</th>\n",
              "      <th>near_infrared_filter</th>\n",
              "      <th>infrared_filter</th>\n",
              "      <th>run_number</th>\n",
              "      <th>rerun_number</th>\n",
              "      <th>camera_column</th>\n",
              "      <th>field_ID</th>\n",
              "      <th>class</th>\n",
              "      <th>redshift</th>\n",
              "      <th>modified_julian_date</th>\n",
              "      <th>class1</th>\n",
              "      <th>fee</th>\n",
              "    </tr>\n",
              "  </thead>\n",
              "  <tbody>\n",
              "    <tr>\n",
              "      <th>0</th>\n",
              "      <td>135.689107</td>\n",
              "      <td>32.494632</td>\n",
              "      <td>23.87882</td>\n",
              "      <td>22.27530</td>\n",
              "      <td>20.395010</td>\n",
              "      <td>19.165730</td>\n",
              "      <td>18.79371</td>\n",
              "      <td>3606</td>\n",
              "      <td>301</td>\n",
              "      <td>2</td>\n",
              "      <td>79</td>\n",
              "      <td>GALAXY</td>\n",
              "      <td>0.634794</td>\n",
              "      <td>56354</td>\n",
              "      <td>0.0</td>\n",
              "      <td>68.0</td>\n",
              "    </tr>\n",
              "    <tr>\n",
              "      <th>1</th>\n",
              "      <td>144.826101</td>\n",
              "      <td>31.274185</td>\n",
              "      <td>24.77759</td>\n",
              "      <td>22.83188</td>\n",
              "      <td>21.044785</td>\n",
              "      <td>20.396495</td>\n",
              "      <td>21.61427</td>\n",
              "      <td>4518</td>\n",
              "      <td>301</td>\n",
              "      <td>5</td>\n",
              "      <td>119</td>\n",
              "      <td>GALAXY</td>\n",
              "      <td>0.704154</td>\n",
              "      <td>58158</td>\n",
              "      <td>0.0</td>\n",
              "      <td>108.0</td>\n",
              "    </tr>\n",
              "    <tr>\n",
              "      <th>2</th>\n",
              "      <td>142.188790</td>\n",
              "      <td>35.582444</td>\n",
              "      <td>25.26307</td>\n",
              "      <td>22.66389</td>\n",
              "      <td>20.609760</td>\n",
              "      <td>19.348570</td>\n",
              "      <td>18.94827</td>\n",
              "      <td>3606</td>\n",
              "      <td>301</td>\n",
              "      <td>2</td>\n",
              "      <td>120</td>\n",
              "      <td>GALAXY</td>\n",
              "      <td>0.644195</td>\n",
              "      <td>55592</td>\n",
              "      <td>0.0</td>\n",
              "      <td>109.0</td>\n",
              "    </tr>\n",
              "    <tr>\n",
              "      <th>3</th>\n",
              "      <td>338.741038</td>\n",
              "      <td>-0.402828</td>\n",
              "      <td>22.13682</td>\n",
              "      <td>23.77656</td>\n",
              "      <td>21.044785</td>\n",
              "      <td>20.396495</td>\n",
              "      <td>19.25010</td>\n",
              "      <td>4192</td>\n",
              "      <td>301</td>\n",
              "      <td>3</td>\n",
              "      <td>214</td>\n",
              "      <td>GALAXY</td>\n",
              "      <td>0.704154</td>\n",
              "      <td>58039</td>\n",
              "      <td>0.0</td>\n",
              "      <td>203.0</td>\n",
              "    </tr>\n",
              "    <tr>\n",
              "      <th>4</th>\n",
              "      <td>345.282593</td>\n",
              "      <td>21.183866</td>\n",
              "      <td>19.43718</td>\n",
              "      <td>17.58028</td>\n",
              "      <td>18.135828</td>\n",
              "      <td>17.732285</td>\n",
              "      <td>15.54461</td>\n",
              "      <td>8102</td>\n",
              "      <td>301</td>\n",
              "      <td>3</td>\n",
              "      <td>137</td>\n",
              "      <td>GALAXY</td>\n",
              "      <td>0.116123</td>\n",
              "      <td>56187</td>\n",
              "      <td>0.0</td>\n",
              "      <td>126.0</td>\n",
              "    </tr>\n",
              "    <tr>\n",
              "      <th>...</th>\n",
              "      <td>...</td>\n",
              "      <td>...</td>\n",
              "      <td>...</td>\n",
              "      <td>...</td>\n",
              "      <td>...</td>\n",
              "      <td>...</td>\n",
              "      <td>...</td>\n",
              "      <td>...</td>\n",
              "      <td>...</td>\n",
              "      <td>...</td>\n",
              "      <td>...</td>\n",
              "      <td>...</td>\n",
              "      <td>...</td>\n",
              "      <td>...</td>\n",
              "      <td>...</td>\n",
              "      <td>...</td>\n",
              "    </tr>\n",
              "    <tr>\n",
              "      <th>99995</th>\n",
              "      <td>39.620709</td>\n",
              "      <td>-2.594074</td>\n",
              "      <td>22.16759</td>\n",
              "      <td>22.97586</td>\n",
              "      <td>21.044785</td>\n",
              "      <td>20.396495</td>\n",
              "      <td>20.73569</td>\n",
              "      <td>7778</td>\n",
              "      <td>301</td>\n",
              "      <td>2</td>\n",
              "      <td>581</td>\n",
              "      <td>GALAXY</td>\n",
              "      <td>0.000000</td>\n",
              "      <td>57749</td>\n",
              "      <td>0.0</td>\n",
              "      <td>570.0</td>\n",
              "    </tr>\n",
              "    <tr>\n",
              "      <th>99996</th>\n",
              "      <td>29.493819</td>\n",
              "      <td>19.798874</td>\n",
              "      <td>22.69118</td>\n",
              "      <td>22.38628</td>\n",
              "      <td>20.450030</td>\n",
              "      <td>19.757590</td>\n",
              "      <td>19.41526</td>\n",
              "      <td>7917</td>\n",
              "      <td>301</td>\n",
              "      <td>1</td>\n",
              "      <td>289</td>\n",
              "      <td>GALAXY</td>\n",
              "      <td>0.404895</td>\n",
              "      <td>56934</td>\n",
              "      <td>0.0</td>\n",
              "      <td>278.0</td>\n",
              "    </tr>\n",
              "    <tr>\n",
              "      <th>99997</th>\n",
              "      <td>224.587407</td>\n",
              "      <td>15.700707</td>\n",
              "      <td>21.16916</td>\n",
              "      <td>19.26997</td>\n",
              "      <td>18.204280</td>\n",
              "      <td>17.732285</td>\n",
              "      <td>17.35221</td>\n",
              "      <td>5314</td>\n",
              "      <td>301</td>\n",
              "      <td>4</td>\n",
              "      <td>308</td>\n",
              "      <td>GALAXY</td>\n",
              "      <td>0.143366</td>\n",
              "      <td>54535</td>\n",
              "      <td>0.0</td>\n",
              "      <td>297.0</td>\n",
              "    </tr>\n",
              "    <tr>\n",
              "      <th>99998</th>\n",
              "      <td>212.268621</td>\n",
              "      <td>46.660365</td>\n",
              "      <td>25.35039</td>\n",
              "      <td>21.63757</td>\n",
              "      <td>19.913860</td>\n",
              "      <td>19.072540</td>\n",
              "      <td>18.62482</td>\n",
              "      <td>3650</td>\n",
              "      <td>301</td>\n",
              "      <td>4</td>\n",
              "      <td>131</td>\n",
              "      <td>GALAXY</td>\n",
              "      <td>0.455040</td>\n",
              "      <td>56368</td>\n",
              "      <td>0.0</td>\n",
              "      <td>120.0</td>\n",
              "    </tr>\n",
              "    <tr>\n",
              "      <th>99999</th>\n",
              "      <td>196.896053</td>\n",
              "      <td>49.464643</td>\n",
              "      <td>22.62171</td>\n",
              "      <td>21.79745</td>\n",
              "      <td>20.601150</td>\n",
              "      <td>20.009590</td>\n",
              "      <td>19.28075</td>\n",
              "      <td>3650</td>\n",
              "      <td>301</td>\n",
              "      <td>4</td>\n",
              "      <td>60</td>\n",
              "      <td>GALAXY</td>\n",
              "      <td>0.542944</td>\n",
              "      <td>57104</td>\n",
              "      <td>0.0</td>\n",
              "      <td>49.0</td>\n",
              "    </tr>\n",
              "  </tbody>\n",
              "</table>\n",
              "<p>100000 rows × 16 columns</p>\n",
              "</div>\n",
              "      <button class=\"colab-df-convert\" onclick=\"convertToInteractive('df-3df97f6a-6cff-4684-a693-bb46da778c78')\"\n",
              "              title=\"Convert this dataframe to an interactive table.\"\n",
              "              style=\"display:none;\">\n",
              "        \n",
              "  <svg xmlns=\"http://www.w3.org/2000/svg\" height=\"24px\"viewBox=\"0 0 24 24\"\n",
              "       width=\"24px\">\n",
              "    <path d=\"M0 0h24v24H0V0z\" fill=\"none\"/>\n",
              "    <path d=\"M18.56 5.44l.94 2.06.94-2.06 2.06-.94-2.06-.94-.94-2.06-.94 2.06-2.06.94zm-11 1L8.5 8.5l.94-2.06 2.06-.94-2.06-.94L8.5 2.5l-.94 2.06-2.06.94zm10 10l.94 2.06.94-2.06 2.06-.94-2.06-.94-.94-2.06-.94 2.06-2.06.94z\"/><path d=\"M17.41 7.96l-1.37-1.37c-.4-.4-.92-.59-1.43-.59-.52 0-1.04.2-1.43.59L10.3 9.45l-7.72 7.72c-.78.78-.78 2.05 0 2.83L4 21.41c.39.39.9.59 1.41.59.51 0 1.02-.2 1.41-.59l7.78-7.78 2.81-2.81c.8-.78.8-2.07 0-2.86zM5.41 20L4 18.59l7.72-7.72 1.47 1.35L5.41 20z\"/>\n",
              "  </svg>\n",
              "      </button>\n",
              "      \n",
              "  <style>\n",
              "    .colab-df-container {\n",
              "      display:flex;\n",
              "      flex-wrap:wrap;\n",
              "      gap: 12px;\n",
              "    }\n",
              "\n",
              "    .colab-df-convert {\n",
              "      background-color: #E8F0FE;\n",
              "      border: none;\n",
              "      border-radius: 50%;\n",
              "      cursor: pointer;\n",
              "      display: none;\n",
              "      fill: #1967D2;\n",
              "      height: 32px;\n",
              "      padding: 0 0 0 0;\n",
              "      width: 32px;\n",
              "    }\n",
              "\n",
              "    .colab-df-convert:hover {\n",
              "      background-color: #E2EBFA;\n",
              "      box-shadow: 0px 1px 2px rgba(60, 64, 67, 0.3), 0px 1px 3px 1px rgba(60, 64, 67, 0.15);\n",
              "      fill: #174EA6;\n",
              "    }\n",
              "\n",
              "    [theme=dark] .colab-df-convert {\n",
              "      background-color: #3B4455;\n",
              "      fill: #D2E3FC;\n",
              "    }\n",
              "\n",
              "    [theme=dark] .colab-df-convert:hover {\n",
              "      background-color: #434B5C;\n",
              "      box-shadow: 0px 1px 3px 1px rgba(0, 0, 0, 0.15);\n",
              "      filter: drop-shadow(0px 1px 2px rgba(0, 0, 0, 0.3));\n",
              "      fill: #FFFFFF;\n",
              "    }\n",
              "  </style>\n",
              "\n",
              "      <script>\n",
              "        const buttonEl =\n",
              "          document.querySelector('#df-3df97f6a-6cff-4684-a693-bb46da778c78 button.colab-df-convert');\n",
              "        buttonEl.style.display =\n",
              "          google.colab.kernel.accessAllowed ? 'block' : 'none';\n",
              "\n",
              "        async function convertToInteractive(key) {\n",
              "          const element = document.querySelector('#df-3df97f6a-6cff-4684-a693-bb46da778c78');\n",
              "          const dataTable =\n",
              "            await google.colab.kernel.invokeFunction('convertToInteractive',\n",
              "                                                     [key], {});\n",
              "          if (!dataTable) return;\n",
              "\n",
              "          const docLinkHtml = 'Like what you see? Visit the ' +\n",
              "            '<a target=\"_blank\" href=https://colab.research.google.com/notebooks/data_table.ipynb>data table notebook</a>'\n",
              "            + ' to learn more about interactive tables.';\n",
              "          element.innerHTML = '';\n",
              "          dataTable['output_type'] = 'display_data';\n",
              "          await google.colab.output.renderOutput(dataTable, element);\n",
              "          const docLink = document.createElement('div');\n",
              "          docLink.innerHTML = docLinkHtml;\n",
              "          element.appendChild(docLink);\n",
              "        }\n",
              "      </script>\n",
              "    </div>\n",
              "  </div>\n",
              "  "
            ]
          },
          "metadata": {},
          "execution_count": 20
        }
      ],
      "source": [
        "encode = OrdinalEncoder()\n",
        "new_star[['class1', 'fee']] = encode.fit_transform(new_star[['class','field_ID']])\n",
        "new_star"
      ]
    },
    {
      "cell_type": "markdown",
      "source": [
        "**dropping the older columns**"
      ],
      "metadata": {
        "id": "CXqa2gLckuKq"
      }
    },
    {
      "cell_type": "code",
      "execution_count": 21,
      "metadata": {
        "id": "x0f9j1m1OPH3"
      },
      "outputs": [],
      "source": [
        "new_star1 = new_star.drop(['class','field_ID','fee'], axis =1)"
      ]
    },
    {
      "cell_type": "markdown",
      "source": [
        "**splitting dataset into dependent and independent variables**"
      ],
      "metadata": {
        "id": "XhBlwyJNlqjZ"
      }
    },
    {
      "cell_type": "code",
      "execution_count": 22,
      "metadata": {
        "id": "13IwcYaEIWBG"
      },
      "outputs": [],
      "source": [
        "y = new_star1['class1']\n",
        "x = new_star1.drop(['class1','green_filter','red_filter','infrared_filter'], axis =1) "
      ]
    },
    {
      "cell_type": "markdown",
      "source": [
        "**checking for multicolinearity using variance inflation factor**"
      ],
      "metadata": {
        "id": "0kcVwi_QmEOH"
      }
    },
    {
      "cell_type": "code",
      "execution_count": 23,
      "metadata": {
        "id": "wZJQ_87LHY4w"
      },
      "outputs": [],
      "source": [
        "def calcu_mult(df):\n",
        "  vif = pd.DataFrame()\n",
        "  vif[\"variables\"] = x.columns\n",
        "  vif[\"VIF\"] = [variance_inflation_factor(x.values, i) for i in range(x.shape[1])]\n",
        "\n",
        "  return vif"
      ]
    },
    {
      "cell_type": "code",
      "execution_count": 24,
      "metadata": {
        "colab": {
          "base_uri": "https://localhost:8080/",
          "height": 332
        },
        "id": "EUxCOhF6IA9i",
        "outputId": "d7c66d13-b476-4c04-a0da-dc25850e0393"
      },
      "outputs": [
        {
          "output_type": "execute_result",
          "data": {
            "text/plain": [
              "              variables          VIF\n",
              "0                 alpha     1.021693\n",
              "1                 delta     1.179716\n",
              "2    ultraviolet_filter     1.002183\n",
              "3  near_infrared_filter     2.360713\n",
              "4            run_number     1.229259\n",
              "5          rerun_number  1366.363377\n",
              "6         camera_column     1.003189\n",
              "7              redshift     1.747042\n",
              "8  modified_julian_date     2.156428"
            ],
            "text/html": [
              "\n",
              "  <div id=\"df-9e48815d-cc5b-4074-82b9-56a8f8a30f1a\">\n",
              "    <div class=\"colab-df-container\">\n",
              "      <div>\n",
              "<style scoped>\n",
              "    .dataframe tbody tr th:only-of-type {\n",
              "        vertical-align: middle;\n",
              "    }\n",
              "\n",
              "    .dataframe tbody tr th {\n",
              "        vertical-align: top;\n",
              "    }\n",
              "\n",
              "    .dataframe thead th {\n",
              "        text-align: right;\n",
              "    }\n",
              "</style>\n",
              "<table border=\"1\" class=\"dataframe\">\n",
              "  <thead>\n",
              "    <tr style=\"text-align: right;\">\n",
              "      <th></th>\n",
              "      <th>variables</th>\n",
              "      <th>VIF</th>\n",
              "    </tr>\n",
              "  </thead>\n",
              "  <tbody>\n",
              "    <tr>\n",
              "      <th>0</th>\n",
              "      <td>alpha</td>\n",
              "      <td>1.021693</td>\n",
              "    </tr>\n",
              "    <tr>\n",
              "      <th>1</th>\n",
              "      <td>delta</td>\n",
              "      <td>1.179716</td>\n",
              "    </tr>\n",
              "    <tr>\n",
              "      <th>2</th>\n",
              "      <td>ultraviolet_filter</td>\n",
              "      <td>1.002183</td>\n",
              "    </tr>\n",
              "    <tr>\n",
              "      <th>3</th>\n",
              "      <td>near_infrared_filter</td>\n",
              "      <td>2.360713</td>\n",
              "    </tr>\n",
              "    <tr>\n",
              "      <th>4</th>\n",
              "      <td>run_number</td>\n",
              "      <td>1.229259</td>\n",
              "    </tr>\n",
              "    <tr>\n",
              "      <th>5</th>\n",
              "      <td>rerun_number</td>\n",
              "      <td>1366.363377</td>\n",
              "    </tr>\n",
              "    <tr>\n",
              "      <th>6</th>\n",
              "      <td>camera_column</td>\n",
              "      <td>1.003189</td>\n",
              "    </tr>\n",
              "    <tr>\n",
              "      <th>7</th>\n",
              "      <td>redshift</td>\n",
              "      <td>1.747042</td>\n",
              "    </tr>\n",
              "    <tr>\n",
              "      <th>8</th>\n",
              "      <td>modified_julian_date</td>\n",
              "      <td>2.156428</td>\n",
              "    </tr>\n",
              "  </tbody>\n",
              "</table>\n",
              "</div>\n",
              "      <button class=\"colab-df-convert\" onclick=\"convertToInteractive('df-9e48815d-cc5b-4074-82b9-56a8f8a30f1a')\"\n",
              "              title=\"Convert this dataframe to an interactive table.\"\n",
              "              style=\"display:none;\">\n",
              "        \n",
              "  <svg xmlns=\"http://www.w3.org/2000/svg\" height=\"24px\"viewBox=\"0 0 24 24\"\n",
              "       width=\"24px\">\n",
              "    <path d=\"M0 0h24v24H0V0z\" fill=\"none\"/>\n",
              "    <path d=\"M18.56 5.44l.94 2.06.94-2.06 2.06-.94-2.06-.94-.94-2.06-.94 2.06-2.06.94zm-11 1L8.5 8.5l.94-2.06 2.06-.94-2.06-.94L8.5 2.5l-.94 2.06-2.06.94zm10 10l.94 2.06.94-2.06 2.06-.94-2.06-.94-.94-2.06-.94 2.06-2.06.94z\"/><path d=\"M17.41 7.96l-1.37-1.37c-.4-.4-.92-.59-1.43-.59-.52 0-1.04.2-1.43.59L10.3 9.45l-7.72 7.72c-.78.78-.78 2.05 0 2.83L4 21.41c.39.39.9.59 1.41.59.51 0 1.02-.2 1.41-.59l7.78-7.78 2.81-2.81c.8-.78.8-2.07 0-2.86zM5.41 20L4 18.59l7.72-7.72 1.47 1.35L5.41 20z\"/>\n",
              "  </svg>\n",
              "      </button>\n",
              "      \n",
              "  <style>\n",
              "    .colab-df-container {\n",
              "      display:flex;\n",
              "      flex-wrap:wrap;\n",
              "      gap: 12px;\n",
              "    }\n",
              "\n",
              "    .colab-df-convert {\n",
              "      background-color: #E8F0FE;\n",
              "      border: none;\n",
              "      border-radius: 50%;\n",
              "      cursor: pointer;\n",
              "      display: none;\n",
              "      fill: #1967D2;\n",
              "      height: 32px;\n",
              "      padding: 0 0 0 0;\n",
              "      width: 32px;\n",
              "    }\n",
              "\n",
              "    .colab-df-convert:hover {\n",
              "      background-color: #E2EBFA;\n",
              "      box-shadow: 0px 1px 2px rgba(60, 64, 67, 0.3), 0px 1px 3px 1px rgba(60, 64, 67, 0.15);\n",
              "      fill: #174EA6;\n",
              "    }\n",
              "\n",
              "    [theme=dark] .colab-df-convert {\n",
              "      background-color: #3B4455;\n",
              "      fill: #D2E3FC;\n",
              "    }\n",
              "\n",
              "    [theme=dark] .colab-df-convert:hover {\n",
              "      background-color: #434B5C;\n",
              "      box-shadow: 0px 1px 3px 1px rgba(0, 0, 0, 0.15);\n",
              "      filter: drop-shadow(0px 1px 2px rgba(0, 0, 0, 0.3));\n",
              "      fill: #FFFFFF;\n",
              "    }\n",
              "  </style>\n",
              "\n",
              "      <script>\n",
              "        const buttonEl =\n",
              "          document.querySelector('#df-9e48815d-cc5b-4074-82b9-56a8f8a30f1a button.colab-df-convert');\n",
              "        buttonEl.style.display =\n",
              "          google.colab.kernel.accessAllowed ? 'block' : 'none';\n",
              "\n",
              "        async function convertToInteractive(key) {\n",
              "          const element = document.querySelector('#df-9e48815d-cc5b-4074-82b9-56a8f8a30f1a');\n",
              "          const dataTable =\n",
              "            await google.colab.kernel.invokeFunction('convertToInteractive',\n",
              "                                                     [key], {});\n",
              "          if (!dataTable) return;\n",
              "\n",
              "          const docLinkHtml = 'Like what you see? Visit the ' +\n",
              "            '<a target=\"_blank\" href=https://colab.research.google.com/notebooks/data_table.ipynb>data table notebook</a>'\n",
              "            + ' to learn more about interactive tables.';\n",
              "          element.innerHTML = '';\n",
              "          dataTable['output_type'] = 'display_data';\n",
              "          await google.colab.output.renderOutput(dataTable, element);\n",
              "          const docLink = document.createElement('div');\n",
              "          docLink.innerHTML = docLinkHtml;\n",
              "          element.appendChild(docLink);\n",
              "        }\n",
              "      </script>\n",
              "    </div>\n",
              "  </div>\n",
              "  "
            ]
          },
          "metadata": {},
          "execution_count": 24
        }
      ],
      "source": [
        "calcu_mult(x)"
      ]
    },
    {
      "cell_type": "code",
      "execution_count": 26,
      "metadata": {
        "colab": {
          "base_uri": "https://localhost:8080/"
        },
        "id": "ZDjSuUw_STeo",
        "outputId": "9d61725d-3fd4-470b-bae6-a59467dc556c"
      },
      "outputs": [
        {
          "output_type": "execute_result",
          "data": {
            "text/plain": [
              "0.0    59445\n",
              "2.0    21594\n",
              "1.0    18961\n",
              "Name: class1, dtype: int64"
            ]
          },
          "metadata": {},
          "execution_count": 26
        }
      ],
      "source": [
        "y.value_counts()"
      ]
    },
    {
      "cell_type": "markdown",
      "source": [
        "**From the above metrics it shows that our dependent dataset is not balanced given that the total count for each categorical variable is not equally distributed which might lead to our model being bias**"
      ],
      "metadata": {
        "id": "pjQM_iiJmTaZ"
      }
    },
    {
      "cell_type": "markdown",
      "source": [
        "**using smote to balance the dependent categories**"
      ],
      "metadata": {
        "id": "YyUHG8hVmaEo"
      }
    },
    {
      "cell_type": "code",
      "execution_count": 27,
      "metadata": {
        "id": "dsR1Ag0CYwRY"
      },
      "outputs": [],
      "source": [
        "sample = SMOTE(random_state = 45)\n",
        "x, y = sample.fit_resample(x, y)"
      ]
    },
    {
      "cell_type": "markdown",
      "source": [
        "**splitting dataset into train and test**"
      ],
      "metadata": {
        "id": "pxX9MaczmmG4"
      }
    },
    {
      "cell_type": "code",
      "execution_count": 29,
      "metadata": {
        "id": "YEGr5A0yZ5km"
      },
      "outputs": [],
      "source": [
        "X_train, x_test, y_train, y_test = train_test_split(x, y, test_size=.20, random_state= 45)"
      ]
    },
    {
      "cell_type": "markdown",
      "source": [
        "**using the standard scaler to normalise the dataset**"
      ],
      "metadata": {
        "id": "MtllDg67tGX5"
      }
    },
    {
      "cell_type": "code",
      "execution_count": 30,
      "metadata": {
        "colab": {
          "base_uri": "https://localhost:8080/",
          "height": 424
        },
        "id": "PL95LYAKaGwW",
        "outputId": "2f9b364f-2768-48a8-cf34-ca64916415ab"
      },
      "outputs": [
        {
          "output_type": "execute_result",
          "data": {
            "text/plain": [
              "               0         1         2         3         4    5         6  \\\n",
              "0       1.735190 -0.636732 -0.109215  0.433019  1.673918  0.0 -0.287565   \n",
              "1       0.838831  0.274102  0.178879 -0.059884 -1.083349  0.0  0.356167   \n",
              "2       1.425352 -0.882923  0.504107  1.048941  1.672397  0.0  0.999899   \n",
              "3       0.556373  0.141631  0.265152  0.294484  0.020471  0.0 -0.287565   \n",
              "4      -0.000480  1.480390 -0.211574 -0.293860 -0.836929  0.0 -1.575028   \n",
              "...          ...       ...       ...       ...       ...  ...       ...   \n",
              "142663  0.353836  1.603215 -0.419788 -1.494614 -0.632086  0.0 -0.931297   \n",
              "142664 -1.323479 -1.661592 -0.265974 -1.428690 -1.737427  0.0 -1.575028   \n",
              "142665  0.728868 -0.691312  0.273039 -0.091286  0.104639  0.0 -0.931297   \n",
              "142666  0.077233  1.566812 -0.093116  0.513150 -0.392765  0.0  0.356167   \n",
              "142667  0.484393  1.609614 -0.024620  0.936319  0.857082  0.0 -0.287565   \n",
              "\n",
              "               7         8  \n",
              "0       1.100219  0.282668  \n",
              "1      -1.157426  1.561338  \n",
              "2      -1.155202  1.480901  \n",
              "3       0.758284 -0.027430  \n",
              "4      -1.156475  0.940032  \n",
              "...          ...       ...  \n",
              "142663 -0.819656 -1.694416  \n",
              "142664 -1.156435 -0.485644  \n",
              "142665  0.961586 -0.157794  \n",
              "142666  1.100219  0.382521  \n",
              "142667  0.907421  1.201313  \n",
              "\n",
              "[142668 rows x 9 columns]"
            ],
            "text/html": [
              "\n",
              "  <div id=\"df-31e092ab-6369-4748-90cf-82d0e74969e0\">\n",
              "    <div class=\"colab-df-container\">\n",
              "      <div>\n",
              "<style scoped>\n",
              "    .dataframe tbody tr th:only-of-type {\n",
              "        vertical-align: middle;\n",
              "    }\n",
              "\n",
              "    .dataframe tbody tr th {\n",
              "        vertical-align: top;\n",
              "    }\n",
              "\n",
              "    .dataframe thead th {\n",
              "        text-align: right;\n",
              "    }\n",
              "</style>\n",
              "<table border=\"1\" class=\"dataframe\">\n",
              "  <thead>\n",
              "    <tr style=\"text-align: right;\">\n",
              "      <th></th>\n",
              "      <th>0</th>\n",
              "      <th>1</th>\n",
              "      <th>2</th>\n",
              "      <th>3</th>\n",
              "      <th>4</th>\n",
              "      <th>5</th>\n",
              "      <th>6</th>\n",
              "      <th>7</th>\n",
              "      <th>8</th>\n",
              "    </tr>\n",
              "  </thead>\n",
              "  <tbody>\n",
              "    <tr>\n",
              "      <th>0</th>\n",
              "      <td>1.735190</td>\n",
              "      <td>-0.636732</td>\n",
              "      <td>-0.109215</td>\n",
              "      <td>0.433019</td>\n",
              "      <td>1.673918</td>\n",
              "      <td>0.0</td>\n",
              "      <td>-0.287565</td>\n",
              "      <td>1.100219</td>\n",
              "      <td>0.282668</td>\n",
              "    </tr>\n",
              "    <tr>\n",
              "      <th>1</th>\n",
              "      <td>0.838831</td>\n",
              "      <td>0.274102</td>\n",
              "      <td>0.178879</td>\n",
              "      <td>-0.059884</td>\n",
              "      <td>-1.083349</td>\n",
              "      <td>0.0</td>\n",
              "      <td>0.356167</td>\n",
              "      <td>-1.157426</td>\n",
              "      <td>1.561338</td>\n",
              "    </tr>\n",
              "    <tr>\n",
              "      <th>2</th>\n",
              "      <td>1.425352</td>\n",
              "      <td>-0.882923</td>\n",
              "      <td>0.504107</td>\n",
              "      <td>1.048941</td>\n",
              "      <td>1.672397</td>\n",
              "      <td>0.0</td>\n",
              "      <td>0.999899</td>\n",
              "      <td>-1.155202</td>\n",
              "      <td>1.480901</td>\n",
              "    </tr>\n",
              "    <tr>\n",
              "      <th>3</th>\n",
              "      <td>0.556373</td>\n",
              "      <td>0.141631</td>\n",
              "      <td>0.265152</td>\n",
              "      <td>0.294484</td>\n",
              "      <td>0.020471</td>\n",
              "      <td>0.0</td>\n",
              "      <td>-0.287565</td>\n",
              "      <td>0.758284</td>\n",
              "      <td>-0.027430</td>\n",
              "    </tr>\n",
              "    <tr>\n",
              "      <th>4</th>\n",
              "      <td>-0.000480</td>\n",
              "      <td>1.480390</td>\n",
              "      <td>-0.211574</td>\n",
              "      <td>-0.293860</td>\n",
              "      <td>-0.836929</td>\n",
              "      <td>0.0</td>\n",
              "      <td>-1.575028</td>\n",
              "      <td>-1.156475</td>\n",
              "      <td>0.940032</td>\n",
              "    </tr>\n",
              "    <tr>\n",
              "      <th>...</th>\n",
              "      <td>...</td>\n",
              "      <td>...</td>\n",
              "      <td>...</td>\n",
              "      <td>...</td>\n",
              "      <td>...</td>\n",
              "      <td>...</td>\n",
              "      <td>...</td>\n",
              "      <td>...</td>\n",
              "      <td>...</td>\n",
              "    </tr>\n",
              "    <tr>\n",
              "      <th>142663</th>\n",
              "      <td>0.353836</td>\n",
              "      <td>1.603215</td>\n",
              "      <td>-0.419788</td>\n",
              "      <td>-1.494614</td>\n",
              "      <td>-0.632086</td>\n",
              "      <td>0.0</td>\n",
              "      <td>-0.931297</td>\n",
              "      <td>-0.819656</td>\n",
              "      <td>-1.694416</td>\n",
              "    </tr>\n",
              "    <tr>\n",
              "      <th>142664</th>\n",
              "      <td>-1.323479</td>\n",
              "      <td>-1.661592</td>\n",
              "      <td>-0.265974</td>\n",
              "      <td>-1.428690</td>\n",
              "      <td>-1.737427</td>\n",
              "      <td>0.0</td>\n",
              "      <td>-1.575028</td>\n",
              "      <td>-1.156435</td>\n",
              "      <td>-0.485644</td>\n",
              "    </tr>\n",
              "    <tr>\n",
              "      <th>142665</th>\n",
              "      <td>0.728868</td>\n",
              "      <td>-0.691312</td>\n",
              "      <td>0.273039</td>\n",
              "      <td>-0.091286</td>\n",
              "      <td>0.104639</td>\n",
              "      <td>0.0</td>\n",
              "      <td>-0.931297</td>\n",
              "      <td>0.961586</td>\n",
              "      <td>-0.157794</td>\n",
              "    </tr>\n",
              "    <tr>\n",
              "      <th>142666</th>\n",
              "      <td>0.077233</td>\n",
              "      <td>1.566812</td>\n",
              "      <td>-0.093116</td>\n",
              "      <td>0.513150</td>\n",
              "      <td>-0.392765</td>\n",
              "      <td>0.0</td>\n",
              "      <td>0.356167</td>\n",
              "      <td>1.100219</td>\n",
              "      <td>0.382521</td>\n",
              "    </tr>\n",
              "    <tr>\n",
              "      <th>142667</th>\n",
              "      <td>0.484393</td>\n",
              "      <td>1.609614</td>\n",
              "      <td>-0.024620</td>\n",
              "      <td>0.936319</td>\n",
              "      <td>0.857082</td>\n",
              "      <td>0.0</td>\n",
              "      <td>-0.287565</td>\n",
              "      <td>0.907421</td>\n",
              "      <td>1.201313</td>\n",
              "    </tr>\n",
              "  </tbody>\n",
              "</table>\n",
              "<p>142668 rows × 9 columns</p>\n",
              "</div>\n",
              "      <button class=\"colab-df-convert\" onclick=\"convertToInteractive('df-31e092ab-6369-4748-90cf-82d0e74969e0')\"\n",
              "              title=\"Convert this dataframe to an interactive table.\"\n",
              "              style=\"display:none;\">\n",
              "        \n",
              "  <svg xmlns=\"http://www.w3.org/2000/svg\" height=\"24px\"viewBox=\"0 0 24 24\"\n",
              "       width=\"24px\">\n",
              "    <path d=\"M0 0h24v24H0V0z\" fill=\"none\"/>\n",
              "    <path d=\"M18.56 5.44l.94 2.06.94-2.06 2.06-.94-2.06-.94-.94-2.06-.94 2.06-2.06.94zm-11 1L8.5 8.5l.94-2.06 2.06-.94-2.06-.94L8.5 2.5l-.94 2.06-2.06.94zm10 10l.94 2.06.94-2.06 2.06-.94-2.06-.94-.94-2.06-.94 2.06-2.06.94z\"/><path d=\"M17.41 7.96l-1.37-1.37c-.4-.4-.92-.59-1.43-.59-.52 0-1.04.2-1.43.59L10.3 9.45l-7.72 7.72c-.78.78-.78 2.05 0 2.83L4 21.41c.39.39.9.59 1.41.59.51 0 1.02-.2 1.41-.59l7.78-7.78 2.81-2.81c.8-.78.8-2.07 0-2.86zM5.41 20L4 18.59l7.72-7.72 1.47 1.35L5.41 20z\"/>\n",
              "  </svg>\n",
              "      </button>\n",
              "      \n",
              "  <style>\n",
              "    .colab-df-container {\n",
              "      display:flex;\n",
              "      flex-wrap:wrap;\n",
              "      gap: 12px;\n",
              "    }\n",
              "\n",
              "    .colab-df-convert {\n",
              "      background-color: #E8F0FE;\n",
              "      border: none;\n",
              "      border-radius: 50%;\n",
              "      cursor: pointer;\n",
              "      display: none;\n",
              "      fill: #1967D2;\n",
              "      height: 32px;\n",
              "      padding: 0 0 0 0;\n",
              "      width: 32px;\n",
              "    }\n",
              "\n",
              "    .colab-df-convert:hover {\n",
              "      background-color: #E2EBFA;\n",
              "      box-shadow: 0px 1px 2px rgba(60, 64, 67, 0.3), 0px 1px 3px 1px rgba(60, 64, 67, 0.15);\n",
              "      fill: #174EA6;\n",
              "    }\n",
              "\n",
              "    [theme=dark] .colab-df-convert {\n",
              "      background-color: #3B4455;\n",
              "      fill: #D2E3FC;\n",
              "    }\n",
              "\n",
              "    [theme=dark] .colab-df-convert:hover {\n",
              "      background-color: #434B5C;\n",
              "      box-shadow: 0px 1px 3px 1px rgba(0, 0, 0, 0.15);\n",
              "      filter: drop-shadow(0px 1px 2px rgba(0, 0, 0, 0.3));\n",
              "      fill: #FFFFFF;\n",
              "    }\n",
              "  </style>\n",
              "\n",
              "      <script>\n",
              "        const buttonEl =\n",
              "          document.querySelector('#df-31e092ab-6369-4748-90cf-82d0e74969e0 button.colab-df-convert');\n",
              "        buttonEl.style.display =\n",
              "          google.colab.kernel.accessAllowed ? 'block' : 'none';\n",
              "\n",
              "        async function convertToInteractive(key) {\n",
              "          const element = document.querySelector('#df-31e092ab-6369-4748-90cf-82d0e74969e0');\n",
              "          const dataTable =\n",
              "            await google.colab.kernel.invokeFunction('convertToInteractive',\n",
              "                                                     [key], {});\n",
              "          if (!dataTable) return;\n",
              "\n",
              "          const docLinkHtml = 'Like what you see? Visit the ' +\n",
              "            '<a target=\"_blank\" href=https://colab.research.google.com/notebooks/data_table.ipynb>data table notebook</a>'\n",
              "            + ' to learn more about interactive tables.';\n",
              "          element.innerHTML = '';\n",
              "          dataTable['output_type'] = 'display_data';\n",
              "          await google.colab.output.renderOutput(dataTable, element);\n",
              "          const docLink = document.createElement('div');\n",
              "          docLink.innerHTML = docLinkHtml;\n",
              "          element.appendChild(docLink);\n",
              "        }\n",
              "      </script>\n",
              "    </div>\n",
              "  </div>\n",
              "  "
            ]
          },
          "metadata": {},
          "execution_count": 30
        }
      ],
      "source": [
        "normalizer = StandardScaler()\n",
        "normed = pd.DataFrame(normalizer.fit_transform(X_train))\n",
        "normed"
      ]
    },
    {
      "cell_type": "markdown",
      "source": [
        "**splitting the normalized dataset into train and test for validation**"
      ],
      "metadata": {
        "id": "r992kVXVtQy6"
      }
    },
    {
      "cell_type": "code",
      "execution_count": 31,
      "metadata": {
        "id": "o38rxOoLaOyH"
      },
      "outputs": [],
      "source": [
        "X_train_, X_test_val,y_train_,y_test_val = train_test_split(normed,y_train,test_size=.25, random_state =1)"
      ]
    },
    {
      "cell_type": "markdown",
      "source": [
        "**using the principal component analysis to check for important features**"
      ],
      "metadata": {
        "id": "Hh3Ij2YUt5eU"
      }
    },
    {
      "cell_type": "code",
      "execution_count": 32,
      "metadata": {
        "colab": {
          "base_uri": "https://localhost:8080/"
        },
        "id": "-JiFqpeUaVEa",
        "outputId": "9d2a2142-d87b-4b07-b39c-70b25b77caa0"
      },
      "outputs": [
        {
          "output_type": "execute_result",
          "data": {
            "text/plain": [
              "PCA(n_components=9)"
            ]
          },
          "metadata": {},
          "execution_count": 32
        }
      ],
      "source": [
        "pca = PCA(n_components=9)\n",
        "pca_model = pca.fit(X_train_)\n",
        "PCA(n_components = 9)"
      ]
    },
    {
      "cell_type": "code",
      "execution_count": 33,
      "metadata": {
        "colab": {
          "base_uri": "https://localhost:8080/",
          "height": 295
        },
        "id": "cnd29NxAabEY",
        "outputId": "ddcaf0a9-2753-4836-9cfd-a6e043db6f36"
      },
      "outputs": [
        {
          "output_type": "display_data",
          "data": {
            "text/plain": [
              "<Figure size 432x288 with 1 Axes>"
            ],
            "image/png": "[encoded data removed]"
          },
          "metadata": {
            "needs_background": "light"
          }
        }
      ],
      "source": [
        "features = x.columns\n",
        "importances = pca_model.explained_variance_ratio_\n",
        "indices = np.argsort(importances)[-9:]\n",
        "plt.title('Feature Importances')\n",
        "plt.barh(range(len(indices)), importances[indices], color='b', align='center')\n",
        "plt.yticks(range(len(indices)), [features[i] for i in indices])\n",
        "plt.xlabel('Relative Importance')\n",
        "plt.show()"
      ]
    },
    {
      "cell_type": "markdown",
      "source": [
        "**From our PCA decomposition it shows that the most important variable for classification are as shown in the above graph**"
      ],
      "metadata": {
        "id": "fUC0yNFDuDLd"
      }
    },
    {
      "cell_type": "markdown",
      "source": [
        "**fitting the training test into logistic regression model**"
      ],
      "metadata": {
        "id": "So780n0ruTlR"
      }
    },
    {
      "cell_type": "code",
      "execution_count": 34,
      "metadata": {
        "id": "722wREmZPDX0"
      },
      "outputs": [],
      "source": [
        "svm = SVC(kernel=\"rbf\", degree =3, random_state = 42, probability = True)\n",
        "svm_output = svm.fit(X_train_,y_train_)"
      ]
    },
    {
      "cell_type": "markdown",
      "source": [
        "**displaying the accuracy score**"
      ],
      "metadata": {
        "id": "MNgNS37Cuzrd"
      }
    },
    {
      "cell_type": "code",
      "execution_count": 35,
      "metadata": {
        "colab": {
          "base_uri": "https://localhost:8080/"
        },
        "id": "qi3JXelzSqQ4",
        "outputId": "b0a92c61-753d-4913-a8f8-7af0f292fbb9"
      },
      "outputs": [
        {
          "output_type": "execute_result",
          "data": {
            "text/plain": [
              "0.941822973617069"
            ]
          },
          "metadata": {},
          "execution_count": 35
        }
      ],
      "source": [
        "svm_output.score(X_train_,y_train_)"
      ]
    },
    {
      "cell_type": "markdown",
      "source": [
        "**predicting with the test**"
      ],
      "metadata": {
        "id": "wOWaYNjwuvQG"
      }
    },
    {
      "cell_type": "code",
      "execution_count": 36,
      "metadata": {
        "id": "8hhJi6JqSxze"
      },
      "outputs": [],
      "source": [
        "y_predict1 = svm_output.predict(X_test_val)"
      ]
    },
    {
      "cell_type": "markdown",
      "source": [
        "**using the confusion matrix to display the four quadrants that show the true and false positive and negative classes**"
      ],
      "metadata": {
        "id": "TWRn08NdvBLQ"
      }
    },
    {
      "cell_type": "code",
      "execution_count": 37,
      "metadata": {
        "colab": {
          "base_uri": "https://localhost:8080/"
        },
        "id": "tavTS5UNS5rJ",
        "outputId": "7ea938a1-ea85-4be4-8830-50d449e46a10"
      },
      "outputs": [
        {
          "output_type": "execute_result",
          "data": {
            "text/plain": [
              "array([[10658,   957,   239],\n",
              "       [  993, 10956,     5],\n",
              "       [    0,     0, 11859]])"
            ]
          },
          "metadata": {},
          "execution_count": 37
        }
      ],
      "source": [
        "confusion_matrix(y_test_val, y_predict1)"
      ]
    },
    {
      "cell_type": "markdown",
      "source": [
        "**printing the precision,recall,and f1-score to determine how well the model has classified the dataset**"
      ],
      "metadata": {
        "id": "LLfGew-BxAsq"
      }
    },
    {
      "cell_type": "code",
      "execution_count": 38,
      "metadata": {
        "colab": {
          "base_uri": "https://localhost:8080/"
        },
        "id": "Sy6ll9gZXNYE",
        "outputId": "fd4e4fe2-5295-4bfe-beca-79b8b55cd29f"
      },
      "outputs": [
        {
          "output_type": "stream",
          "name": "stdout",
          "text": [
            "              precision    recall  f1-score   support\n",
            "\n",
            "         0.0       0.91      0.90      0.91     11854\n",
            "         1.0       0.92      0.92      0.92     11954\n",
            "         2.0       0.98      1.00      0.99     11859\n",
            "\n",
            "    accuracy                           0.94     35667\n",
            "   macro avg       0.94      0.94      0.94     35667\n",
            "weighted avg       0.94      0.94      0.94     35667\n",
            "\n"
          ]
        }
      ],
      "source": [
        "print(classification_report(y_test_val, y_predict1))"
      ]
    },
    {
      "cell_type": "code",
      "execution_count": 39,
      "metadata": {
        "id": "280fRk_9M9jz"
      },
      "outputs": [],
      "source": [
        "classes = svm_output.classes_\n",
        "y_prob = svm_output.predict_proba(X_test_val)"
      ]
    },
    {
      "cell_type": "code",
      "execution_count": 41,
      "metadata": {
        "id": "UnG4-ZzTNd7d"
      },
      "outputs": [],
      "source": [
        "def calculate_tpr_fpr(y_real, y_pred):\n",
        "    '''\n",
        "    Calculates the True Positive Rate (tpr) and the True Negative Rate (fpr) based on real and predicted observations\n",
        "    \n",
        "    Args:\n",
        "        y_real: The list or series with the real classes\n",
        "        y_pred: The list or series with the predicted classes\n",
        "        \n",
        "    Returns:\n",
        "        tpr: The True Positive Rate of the classifier\n",
        "        fpr: The False Positive Rate of the classifier\n",
        "    '''\n",
        "    \n",
        "    # Calculates the confusion matrix and recover each element\n",
        "    cm = confusion_matrix(y_real, y_pred)\n",
        "    TN = cm[0, 0]\n",
        "    FP = cm[0, 1]\n",
        "    FN = cm[1, 0]\n",
        "    TP = cm[1, 1]\n",
        "    \n",
        "    # Calculates tpr and fpr\n",
        "    tpr =  TP/(TP + FN) # sensitivity - true positive rate\n",
        "    fpr = 1 - TN/(TN+FP) # 1-specificity - false positive rate\n",
        "    \n",
        "    return tpr, fpr"
      ]
    },
    {
      "cell_type": "code",
      "execution_count": 42,
      "metadata": {
        "id": "aHF8zKsrNzug"
      },
      "outputs": [],
      "source": [
        "def get_all_roc_coordinates(y_real, y_proba):\n",
        "    '''\n",
        "    Calculates all the ROC Curve coordinates (tpr and fpr) by considering each point as a treshold for the predicion of the class.\n",
        "    \n",
        "    Args:\n",
        "        y_real: The list or series with the real classes.\n",
        "        y_proba: The array with the probabilities for each class, obtained by using the `.predict_proba()` method.\n",
        "        \n",
        "    Returns:\n",
        "        tpr_list: The list of TPRs representing each threshold.\n",
        "        fpr_list: The list of FPRs representing each threshold.\n",
        "    '''\n",
        "    tpr_list = [0]\n",
        "    fpr_list = [0]\n",
        "    for i in range(len(y_proba)):\n",
        "        threshold = y_proba[i]\n",
        "        y_pred = y_proba >= threshold\n",
        "        tpr, fpr = calculate_tpr_fpr(y_real, y_pred)\n",
        "        tpr_list.append(tpr)\n",
        "        fpr_list.append(fpr)\n",
        "    return tpr_list, fpr_list"
      ]
    },
    {
      "cell_type": "code",
      "execution_count": 43,
      "metadata": {
        "id": "5n4HtEBwN-Zz"
      },
      "outputs": [],
      "source": [
        "def plot_roc_curve(tpr, fpr, scatter = True, ax = None):\n",
        "    '''\n",
        "    Plots the ROC Curve by using the list of coordinates (tpr and fpr).\n",
        "    \n",
        "    Args:\n",
        "        tpr: The list of TPRs representing each coordinate.\n",
        "        fpr: The list of FPRs representing each coordinate.\n",
        "        scatter: When True, the points used on the calculation will be plotted with the line (default = True).\n",
        "    '''\n",
        "    if ax == None:\n",
        "        plt.figure(figsize = (5, 5))\n",
        "        ax = plt.axes()\n",
        "    \n",
        "    if scatter:\n",
        "        sns.scatterplot(x = fpr, y = tpr, ax = ax)\n",
        "    sns.lineplot(x = fpr, y = tpr, ax = ax)\n",
        "    sns.lineplot(x = [0, 1], y = [0, 1], color = 'green', ax = ax)\n",
        "    plt.xlim(-0.05, 1.05)\n",
        "    plt.ylim(-0.05, 1.05)\n",
        "    plt.xlabel(\"False Positive Rate\")\n",
        "    plt.ylabel(\"True Positive Rate\")"
      ]
    },
    {
      "cell_type": "code",
      "execution_count": 50,
      "metadata": {
        "colab": {
          "base_uri": "https://localhost:8080/",
          "height": 585
        },
        "id": "J0vAl3thOEvX",
        "outputId": "9472e91a-ec76-4840-a146-7aeaeea51dd2"
      },
      "outputs": [
        {
          "output_type": "display_data",
          "data": {
            "text/plain": [
              "<Figure size 864x576 with 6 Axes>"
            ],
            "image/png": "[encoded data removed]"
          },
          "metadata": {
            "needs_background": "light"
          }
        }
      ],
      "source": [
        "from sklearn.metrics import roc_auc_score\n",
        "\n",
        "plt.figure(figsize = (12, 8))\n",
        "bins = [i/20 for i in range(20)] + [1]\n",
        "roc_auc_ovr = {}\n",
        "\n",
        "for i in range(len(classes)):\n",
        "    # Gets the class\n",
        "    c = classes[i]\n",
        "    \n",
        "    # Prepares an auxiliar dataframe to help with the plots\n",
        "    df_aux = X_test_val.copy()\n",
        "    df_aux['class'] = [1 if y == c else 0 for y in y_test_val]\n",
        "    df_aux['prob'] = y_prob[:, i]\n",
        "    df_aux = df_aux.reset_index(drop = True)\n",
        "    \n",
        "    # Plots the probability distribution for the class and the rest\n",
        "    ax = plt.subplot(2, 3, i+1)\n",
        "    sns.histplot(x = \"prob\", data = df_aux, hue = 'class', color = 'b', ax = ax, bins = bins)\n",
        "    ax.set_title(c)\n",
        "    ax.legend([f\"Class: {c}\", \"Rest\"])\n",
        "    ax.set_xlabel(f\"P(x = {c})\")\n",
        "    \n",
        "    # Calculates the ROC Coordinates and plots the ROC Curves\n",
        "    ax_bottom = plt.subplot(2, 3, i+4)\n",
        "    tpr, fpr = get_all_roc_coordinates(df_aux['class'], df_aux['prob'])\n",
        "    plot_roc_curve(tpr, fpr, scatter = False, ax = ax_bottom)\n",
        "    ax_bottom.set_title(\"ROC Curve OvR\")\n",
        "    \n",
        "    # Calculates the ROC AUC OvR\n",
        "    roc_auc_ovr[c] = roc_auc_score(df_aux['class'], df_aux['prob'])\n",
        "    \n",
        "plt.tight_layout()"
      ]
    },
    {
      "cell_type": "markdown",
      "source": [
        "**These graphs above show how well the model was able to understand each of the classes.It understood the star class perfectly**"
      ],
      "metadata": {
        "id": "nRRAlw0R26v7"
      }
    },
    {
      "cell_type": "code",
      "execution_count": null,
      "metadata": {
        "id": "a8n5H8CoOndn"
      },
      "outputs": [],
      "source": [
        "import shap\n",
        "\n",
        "explainer = shap.Explainer(svm_output.predict, X_test_val) \n",
        "shap_values = explainer(X_test_val) "
      ]
    },
    {
      "cell_type": "code",
      "execution_count": null,
      "metadata": {
        "id": "8r4Ef7wQQfz5"
      },
      "outputs": [],
      "source": [
        "shap_values = explainer.shap_values(x) "
      ]
    }
  ],
  "metadata": {
    "colab": {
      "collapsed_sections": [],
      "name": "Star_Classification.ipynb",
      "provenance": [],
      "authorship_tag": "ABX9TyMSCtkzr0IucPqrGrs8x0Uv",
      "include_colab_link": true
    },
    "kernelspec": {
      "display_name": "Python 3",
      "name": "python3"
    },
    "language_info": {
      "name": "python"
    },
    "accelerator": "TPU"
  },
  "nbformat": 4,
  "nbformat_minor": 0
}